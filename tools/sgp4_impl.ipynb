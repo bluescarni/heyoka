{
 "cells": [
  {
   "cell_type": "markdown",
   "id": "dee8b8c5-6835-4a1b-933d-aa47c08007f6",
   "metadata": {},
   "source": [
    "# SGP4 implementation\n",
    "\n",
    "This notebook is a step-by-step implementation of the SGP4 algorithm in the heyoka.py expression system, adapted from the ``sgp4.f`` file here:\n",
    "\n",
    "https://aim.hamptonu.edu/archive/cips/documentation/software/common/astron_lib/\n",
    "\n",
    "The implementation splits the original code in blocks and compares the numerical values of the quantities computed in each block with numerical values computed directly from the original fortran code."
   ]
  },
  {
   "cell_type": "code",
   "execution_count": 1,
   "id": "66d00240-02ee-4c5e-9fd7-acc3c9ffebb8",
   "metadata": {},
   "outputs": [],
   "source": [
    "import heyoka as hy\n",
    "\n",
    "# Small abs() wrapper.\n",
    "def ABS(x):\n",
    "    return hy.select(hy.gte(x, 0.), x, -x)\n",
    "\n",
    "# ACTAN() wrapper.\n",
    "def ACTAN(a, b):\n",
    "    import math\n",
    "    \n",
    "    ret = hy.atan2(a, b)\n",
    "    return hy.select(hy.gte(ret, 0.), ret, 2*math.pi + ret)\n",
    "\n",
    "# max() wrapper.\n",
    "def MAX(a, b):\n",
    "    return hy.select(hy.gt(a, b), a, b)\n",
    "\n",
    "# min() wrapper.\n",
    "def MIN(a, b):\n",
    "    return hy.select(hy.lt(a, b), a, b)\n",
    "\n",
    "import numpy as np\n",
    "np.set_printoptions(precision=19)\n",
    "\n",
    "# Conversion from revolutions per day to\n",
    "# rad per minute.\n",
    "def revday2radmin(x):\n",
    "    import math\n",
    "    return x*2.*math.pi/1440."
   ]
  },
  {
   "cell_type": "code",
   "execution_count": 2,
   "id": "d03b7735-d3f4-401a-abc5-0d94495839e3",
   "metadata": {},
   "outputs": [],
   "source": [
    "# The inputs.\n",
    "N0, I0, E0, BSTAR, OMEGA0, M0, TSINCE, NODE0 = hy.make_vars(\"N0\", \"I0\", \"E0\", \"BSTAR\", \"OMEGA0\", \"M0\", \"TSINCE\", \"NODE0\")"
   ]
  },
  {
   "cell_type": "code",
   "execution_count": 3,
   "id": "1d754e68-44a6-4522-99ef-4314612f66e3",
   "metadata": {},
   "outputs": [],
   "source": [
    "# Constants.\n",
    "KE=0.743669161e-1\n",
    "TOTHRD=2/3.\n",
    "J2=1.082616e-3\n",
    "CK2=.5*J2\n",
    "KMPER=6378.135\n",
    "S0=20./KMPER\n",
    "S1=78./KMPER\n",
    "Q0=120./KMPER\n",
    "J3=-0.253881e-5\n",
    "A3OVK2=-J3/CK2\n",
    "# WHY WHY WHY WHY\n",
    "J4=float(np.single(\"-1.65597E-6\"))\n",
    "CK4=-.375*J4\n",
    "SIMPHT=220./KMPER"
   ]
  },
  {
   "cell_type": "code",
   "execution_count": 4,
   "id": "a3bcc87d-6279-4766-8fa9-5505b0d8180a",
   "metadata": {},
   "outputs": [],
   "source": [
    "# Recover original mean motion (N0DP) and semimajor axis (A0DP)\n",
    "# from input elements.\n",
    "A1 = (KE/N0)**TOTHRD\n",
    "COSI0 = hy.cos(I0)\n",
    "THETA2 = COSI0**2\n",
    "X3THM1 = 3.*THETA2-1.\n",
    "BETA02 = 1.-E0**2\n",
    "BETA0 = hy.sqrt(BETA02)\n",
    "DELA2 = 1.5*CK2*X3THM1/(BETA0*BETA02)\n",
    "DEL1 = DELA2/A1**2\n",
    "A0 = A1*(1.-DEL1*(1./3.+DEL1*(1.+134./81.*DEL1)))\n",
    "DEL0 = DELA2/A0**2\n",
    "N0DP = N0/(1.+DEL0)"
   ]
  },
  {
   "cell_type": "code",
   "execution_count": 5,
   "id": "f49afc30-c861-4f55-a375-12dbe3152511",
   "metadata": {},
   "outputs": [
    {
     "data": {
      "text/plain": [
       "0.0"
      ]
     },
     "execution_count": 5,
     "metadata": {},
     "output_type": "execute_result"
    }
   ],
   "source": [
    "cf = hy.cfunc([A1, COSI0, THETA2, X3THM1, BETA02, BETA0, DELA2, DEL1, A0, DEL0, N0DP], [N0, I0, E0, BSTAR, OMEGA0, M0, TSINCE, NODE0])\n",
    "\n",
    "res = cf([revday2radmin(16.05824518), np.deg2rad(72.8435), 0.0086731, .66816e-4, np.deg2rad(52.6988), np.deg2rad(110.5714), 0., np.deg2rad(115.9689)])\n",
    "\n",
    "cmp_str=\"1.0405018921296842       0.29498270014673938        8.7014793385861156E-002 -0.73895561984241653       0.99992477733638996       0.99996238796086223       -6.0007159020022667E-004  -5.5426482413560173E-004   1.0406938106368071       -5.5406041460012831E-004   7.0106155666551997E-002\"\n",
    "cmp_arr = np.fromstring(cmp_str, sep=\" \")\n",
    "\n",
    "np.max(np.abs((cmp_arr - res)/cmp_arr))"
   ]
  },
  {
   "cell_type": "code",
   "execution_count": 6,
   "id": "de990e4a-86c3-4336-bd2f-67a20c1d6a30",
   "metadata": {},
   "outputs": [],
   "source": [
    "# Initialization for new element set.\n",
    "A0DP = A0/(1.-DEL0)\n",
    "PERIGE = A0DP*(1.-E0)-1.\n",
    "S = MIN(MAX(S0,PERIGE-S1),S1)\n",
    "S4 = 1.+S\n",
    "PINVSQ = 1./(A0DP*BETA02)**2\n",
    "XI = 1./(A0DP-S4)\n",
    "ETA = A0DP*XI*E0\n",
    "ETASQ = ETA**2\n",
    "EETA = E0*ETA\n",
    "PSISQ = ABS(1.-ETASQ)\n",
    "COEF = ((Q0-S)*XI)**4\n",
    "COEF1 = COEF/(hy.sqrt(PSISQ)*PSISQ**3)\n",
    "C1 = BSTAR*COEF1*N0DP*(A0DP*(1.+1.5*ETASQ+EETA*(4.+ETASQ))+0.75*CK2*XI/PSISQ*X3THM1*(8.+3.*ETASQ*(8.+ETASQ)))"
   ]
  },
  {
   "cell_type": "code",
   "execution_count": 7,
   "id": "83def5c3-bb39-4923-a312-b7fc152b870e",
   "metadata": {},
   "outputs": [
    {
     "data": {
      "text/plain": [
       "8.925632787631372e-16"
      ]
     },
     "execution_count": 7,
     "metadata": {},
     "output_type": "execute_result"
    }
   ],
   "source": [
    "cf = hy.cfunc([A0DP, PERIGE, S, S4, PINVSQ, XI, ETA, ETASQ, EETA, PSISQ, COEF, COEF1, C1], [N0, I0, E0, BSTAR, OMEGA0, M0, TSINCE, NODE0])\n",
    "\n",
    "res = cf([revday2radmin(16.05824518), np.deg2rad(72.8435), 0.0086731, .66816e-4, np.deg2rad(52.6988), np.deg2rad(110.5714), 0., np.deg2rad(115.9689)])\n",
    "\n",
    "cmp_str=\"1.0401175226909520        3.1096479404901123E-002   1.2229280189271628E-002   1.0122292801892716       0.92448637336617012        35.857404780517960       0.32347120065050083       0.10463361765027657        2.8054980703618587E-003  0.89536638234972343        3.1084060647497392E-003   4.5765161876348661E-003   2.3338045281284853E-008\"\n",
    "cmp_arr = np.fromstring(cmp_str, sep=\" \")\n",
    "\n",
    "np.max(np.abs((cmp_arr - res)/cmp_arr))"
   ]
  },
  {
   "cell_type": "code",
   "execution_count": 8,
   "id": "6bb92669-bcdc-42b4-bb3a-214ccf8b6a22",
   "metadata": {},
   "outputs": [],
   "source": [
    "SINI0 = hy.sin(I0)\n",
    "C3 = COEF*XI*A3OVK2*N0DP*SINI0/E0\n",
    "X1MTH2 = 1.-THETA2\n",
    "C4 = 2.*N0DP*COEF1*A0DP*BETA02*(ETA*(2.+.5*ETASQ)+E0*(.5+2.*ETASQ)-2.*CK2*XI/(A0DP*PSISQ)*(-3.*X3THM1*(1.-2.*EETA+ETASQ*(1.5-.5*EETA))+.75*X1MTH2*(2.*ETASQ-EETA*(1.+ETASQ))*hy.cos(2.*OMEGA0)))\n",
    "C5 = 2.*COEF1*A0DP*BETA02*(1.+2.75*(ETASQ+EETA)+EETA*ETASQ)\n",
    "THETA4 = THETA2**2\n",
    "TEMP1 = 3.*CK2*PINVSQ*N0DP\n",
    "TEMP2 = TEMP1*CK2*PINVSQ\n",
    "TEMP3 = 1.25*CK4*PINVSQ**2*N0DP\n",
    "MDOT = N0DP+.5*TEMP1*BETA0*X3THM1+.0625*TEMP2*BETA0*(13.-78.*THETA2+137.*THETA4)\n",
    "OMGDOT = -.5*TEMP1*(1.-5.*THETA2)+0.0625*TEMP2*(7.-114.*THETA2+395.*THETA4)+TEMP3*(3.-36.*THETA2+49.*THETA4)\n",
    "HDOT1 = -TEMP1*COSI0\n",
    "N0DOT = HDOT1+(.5*TEMP2*(4.-19.*THETA2)+2.*TEMP3*(3.-7.*THETA2))*COSI0\n",
    "OMGCOF = BSTAR*C3*hy.cos(OMEGA0)\n",
    "MCOF = -TOTHRD*COEF*BSTAR/EETA\n",
    "NODCF = 3.5*BETA02*HDOT1*C1\n",
    "T2COF = 1.5*C1\n",
    "LCOF = .125*A3OVK2*SINI0*(3.+5.*COSI0)/(1.+COSI0)\n",
    "AYCOF = .25*A3OVK2*SINI0\n",
    "DELM0 = (1.+ETA*hy.cos(M0))**3\n",
    "SINM0 = hy.sin(M0)\n",
    "X7THM1 = 7.*THETA2-1."
   ]
  },
  {
   "cell_type": "code",
   "execution_count": 9,
   "id": "da37e31a-58b6-4a44-977f-a26a74af437d",
   "metadata": {},
   "outputs": [
    {
     "data": {
      "text/plain": [
       "5.748668562827581e-16"
      ]
     },
     "execution_count": 9,
     "metadata": {},
     "output_type": "execute_result"
    }
   ],
   "source": [
    "cf = hy.cfunc([SINI0, C3, X1MTH2, C4, C5, THETA4, TEMP1, TEMP2, TEMP3, MDOT, OMGDOT, HDOT1, N0DOT, OMGCOF, MCOF, NODCF, T2COF, LCOF, AYCOF, DELM0, SINM0, X7THM1], [N0, I0, E0, BSTAR, OMEGA0, M0, TSINCE, NODE0])\n",
    "\n",
    "res = cf([revday2radmin(16.05824518), np.deg2rad(72.8435), 0.0086731, .66816e-4, np.deg2rad(52.6988), np.deg2rad(110.5714), 0., np.deg2rad(115.9689)])\n",
    "\n",
    "cmp_str=\"0.95550259372444346        4.0375324468131845E-003  0.91298520661413884        3.7720114166826167E-004   1.2334919897178378E-002   7.5715742679841064E-003   1.0525006369286549E-004   5.2670486169768250E-008   4.6510490738020484E-008   7.0067293432081276E-002  -2.9717924905230478E-005  -3.1046947978737759E-005  -3.0963112435958149E-005   1.6348305656500835E-007  -4.9353389763819533E-005  -2.5358220065714951E-012   3.5007067921927278E-008   1.9357457580171985E-003   1.1203600999678345E-003  0.69630867249014317       0.93623504585812345      -0.39089644629897191\"\n",
    "cmp_arr = np.fromstring(cmp_str, sep=\" \")\n",
    "\n",
    "np.max(np.abs((cmp_arr - res)/cmp_arr))"
   ]
  },
  {
   "cell_type": "code",
   "execution_count": 10,
   "id": "e32f7a32-1aa3-444f-8b03-24ae6b96c094",
   "metadata": {},
   "outputs": [],
   "source": [
    "# For perigee less than 220 kilometers, the equations are\n",
    "# truncated to linear variation in sqrt A and quadratic\n",
    "# variation in mean anomaly.  Also, the C3 term, the\n",
    "# delta OMEGA term, and the delta M term are dropped.\n",
    "C1SQ = C1**2\n",
    "D2 = 4.*A0DP*XI*C1SQ\n",
    "TEMP0 = D2*XI*C1/3.\n",
    "D3 = (17.*A0DP+S4)*TEMP0\n",
    "D4 = .5*TEMP0*A0DP*XI*(221.*A0DP+31.*S4)*C1\n",
    "T3COF = D2+2.*C1SQ\n",
    "T4COF = .25*(3.*D3+C1*(12.*D2+10.*C1SQ))\n",
    "T5COF = .2*(3.*D4+12.*C1*D3+6.*D2**2+15.*C1SQ*(2.*D2+C1SQ))"
   ]
  },
  {
   "cell_type": "code",
   "execution_count": 11,
   "id": "a2ab2fee-02dc-4987-8308-68c26012f342",
   "metadata": {},
   "outputs": [
    {
     "data": {
      "text/plain": [
       "1.9532839596215615e-16"
      ]
     },
     "execution_count": 11,
     "metadata": {},
     "output_type": "execute_result"
    }
   ],
   "source": [
    "cf = hy.cfunc([C1SQ, D2, TEMP0, D3, D4, T3COF, T4COF, T5COF], [N0, I0, E0, BSTAR, OMEGA0, M0, TSINCE, NODE0])\n",
    "\n",
    "res = cf([revday2radmin(12.), np.deg2rad(72.8435), 0.0086731, .66816e-4, np.deg2rad(52.6988), np.deg2rad(110.5714), 0., np.deg2rad(115.9689)])\n",
    "\n",
    "cmp_str=\"4.4178125975612830E-024   8.8938566740110938E-023   2.4826571315925831E-034   5.5827388478537520E-033   4.0779833963340013E-043   9.7774191935233499E-023   4.7710772533442620E-033   2.8474903690952864E-043\"\n",
    "cmp_arr = np.fromstring(cmp_str, sep=\" \")\n",
    "\n",
    "np.max(np.abs((cmp_arr - res)/cmp_arr))"
   ]
  },
  {
   "cell_type": "code",
   "execution_count": 12,
   "id": "475fae50-cb01-4c84-939a-e5f317a99158",
   "metadata": {},
   "outputs": [],
   "source": [
    "# Update for secular gravity and atmospheric drag.\n",
    "MP = M0+MDOT*TSINCE\n",
    "OMEGA = OMEGA0+OMGDOT*TSINCE\n",
    "NODE = NODE0+(N0DOT+NODCF*TSINCE)*TSINCE\n",
    "TEMPE = C4*TSINCE\n",
    "TEMPA = 1.-C1*TSINCE\n",
    "TEMPL = T2COF\n",
    "TEMPF = MCOF*((1.+ETA*hy.cos(MP))**3-DELM0)+OMGCOF*TSINCE\n",
    "# The conditional updates.\n",
    "MP = MP + hy.select(hy.gte(PERIGE, SIMPHT), TEMPF, 0.)\n",
    "OMEGA = OMEGA - hy.select(hy.gte(PERIGE, SIMPHT), TEMPF, 0.)\n",
    "TEMPE = TEMPE + hy.select(hy.gte(PERIGE, SIMPHT), C5*(hy.sin(MP)-SINM0), 0.)\n",
    "TEMPA = TEMPA - hy.select(hy.gte(PERIGE, SIMPHT),(D2+(D3+D4*TSINCE)*TSINCE)*TSINCE**2, 0.)\n",
    "TEMPL = TEMPL + hy.select(hy.gte(PERIGE, SIMPHT),(T3COF+(T4COF+T5COF*TSINCE)*TSINCE)*TSINCE, 0.)\n",
    "A = A0DP*TEMPA**2\n",
    "N = KE/hy.sqrt(A**3)\n",
    "E = E0-TEMPE*BSTAR\n",
    "TEMPL = TEMPL*TSINCE**2"
   ]
  },
  {
   "cell_type": "code",
   "execution_count": 13,
   "id": "091ab0a8-3781-4d25-89e3-3247a668c9c0",
   "metadata": {},
   "outputs": [
    {
     "data": {
      "text/plain": [
       "1.4575818027208252e-16"
      ]
     },
     "execution_count": 13,
     "metadata": {},
     "output_type": "execute_result"
    }
   ],
   "source": [
    "cf = hy.cfunc([MP, OMEGA, NODE, TEMPE, TEMPA, TEMPL, A, N, E], [N0, I0, E0, BSTAR, OMEGA0, M0, TSINCE, NODE0])\n",
    "\n",
    "res = cf([revday2radmin(12.), np.deg2rad(72.8435), 0.0086731, .66816e-4, np.deg2rad(52.6988), np.deg2rad(110.5714), 30., np.deg2rad(115.9689)])\n",
    "\n",
    "cmp_str=\"3.5006311214607546       0.91931591327868656        2.0235682034995306       -1.4019994318859061E-006  0.99999999993694422        2.8375100835128218E-009   1.2632189058319179        5.2379560119241088E-002   8.6731000936759936E-003\"\n",
    "cmp_arr = np.fromstring(cmp_str, sep=\" \")\n",
    "\n",
    "np.max(np.abs((cmp_arr - res)/cmp_arr))"
   ]
  },
  {
   "cell_type": "code",
   "execution_count": 14,
   "id": "0c7406cb-46ae-4db9-b487-c9faa5757b0b",
   "metadata": {},
   "outputs": [],
   "source": [
    "# Long period periodics.\n",
    "AXN = E*hy.cos(OMEGA)\n",
    "AB = A*(1.-E**2)\n",
    "AYN = AYCOF/AB+E*hy.sin(OMEGA)"
   ]
  },
  {
   "cell_type": "code",
   "execution_count": 15,
   "id": "4bfa6ce6-506d-411b-b56f-b105dfd8e275",
   "metadata": {},
   "outputs": [
    {
     "data": {
      "text/plain": [
       "0.0"
      ]
     },
     "execution_count": 15,
     "metadata": {},
     "output_type": "execute_result"
    }
   ],
   "source": [
    "cf = hy.cfunc([AXN, AB, AYN], [N0, I0, E0, BSTAR, OMEGA0, M0, TSINCE, NODE0])\n",
    "\n",
    "res = cf([revday2radmin(12.), np.deg2rad(72.8435), 0.0086731, .66816e-4, np.deg2rad(52.6988), np.deg2rad(110.5714), 30., np.deg2rad(115.9689)])\n",
    "\n",
    "cmp_str=\" 5.2590580533442427E-003   1.2631238831390459        7.7837120758937391E-003\"\n",
    "cmp_arr = np.fromstring(cmp_str, sep=\" \")\n",
    "\n",
    "np.max(np.abs((cmp_arr - res)/cmp_arr))"
   ]
  },
  {
   "cell_type": "code",
   "execution_count": 16,
   "id": "646109df-87db-45ae-bb55-d944f7a30c46",
   "metadata": {},
   "outputs": [],
   "source": [
    "# NOTE: this is the original Kepler-like solver, commented out\n",
    "# because we can use the kepF() function from heyoka.py in its place.\n",
    "# CAPU = FMOD2P(LCOF*AXN/AB+MP+OMEGA+N0DP*TEMPL)\n",
    "# EPWNEW = CAPU\n",
    "# for _ in range(10):\n",
    "#     EPW = EPWNEW\n",
    "#     SINEPW = hy.sin(EPW)\n",
    "#     COSEPW = hy.cos(EPW)\n",
    "#     ESINE = AXN*SINEPW-AYN*COSEPW\n",
    "#     ECOSE = AXN*COSEPW+AYN*SINEPW\n",
    "#     EPWNEW = (CAPU+ESINE-EPW)/(1.-ECOSE)+EPW"
   ]
  },
  {
   "cell_type": "code",
   "execution_count": 17,
   "id": "04782f01-57b5-402b-8417-2d082cc8a8e5",
   "metadata": {},
   "outputs": [],
   "source": [
    "# Solve Kepler's equation.\n",
    "CAPU = LCOF*AXN/AB+MP+OMEGA+N0DP*TEMPL\n",
    "EPWNEW = hy.kepF(AYN, AXN, CAPU)\n",
    "SINEPW = hy.sin(EPWNEW)\n",
    "COSEPW = hy.cos(EPWNEW)\n",
    "ESINE = AXN*SINEPW-AYN*COSEPW\n",
    "ECOSE = AXN*COSEPW+AYN*SINEPW"
   ]
  },
  {
   "cell_type": "code",
   "execution_count": 18,
   "id": "594d428b-a3ee-4eb5-beae-30e28aa57314",
   "metadata": {},
   "outputs": [
    {
     "data": {
      "text/plain": [
       "1.5673102463198297e-16"
      ]
     },
     "execution_count": 18,
     "metadata": {},
     "output_type": "execute_result"
    }
   ],
   "source": [
    "cf = hy.cfunc([SINEPW, COSEPW, ESINE, ECOSE], [N0, I0, E0, BSTAR, OMEGA0, M0, TSINCE, NODE0])\n",
    "\n",
    "res = cf([revday2radmin(12.), np.deg2rad(72.8435), 0.0086731, .66816e-4, np.deg2rad(52.6988), np.deg2rad(110.5714), 30., np.deg2rad(115.9689)])\n",
    "\n",
    "cmp_str=\"-0.95674370609558179      -0.29093208975032464       -2.7670390722737840E-003  -8.9770462882492255E-003\"\n",
    "cmp_arr = np.fromstring(cmp_str, sep=\" \")\n",
    "\n",
    "np.max(np.abs((cmp_arr - res)/cmp_arr))"
   ]
  },
  {
   "cell_type": "code",
   "execution_count": 19,
   "id": "41c68d74-780d-4207-aca2-c313a0f28de8",
   "metadata": {},
   "outputs": [],
   "source": [
    "# Short period preliminary quantities\n",
    "ELSQ = AXN**2+AYN**2\n",
    "TEMPS = 1.-ELSQ\n",
    "PL = A*TEMPS\n",
    "R = A*(1.-ECOSE)\n",
    "RDOT = KE*hy.sqrt(A)*ESINE/R\n",
    "RFDOT = KE*hy.sqrt(PL)/R\n",
    "BETAL = hy.sqrt(TEMPS)\n",
    "TEMP3 = ESINE/(1.+BETAL)\n",
    "COSU = (COSEPW-AXN+AYN*TEMP3)*A/R\n",
    "SINU = (SINEPW-AYN-AXN*TEMP3)*A/R\n",
    "U = ACTAN(SINU,COSU)\n",
    "SIN2U = 2.*SINU*COSU\n",
    "COS2U = 2.*COSU**2-1.\n",
    "TEMP1 = CK2/PL\n",
    "TEMP2 = TEMP1/PL"
   ]
  },
  {
   "cell_type": "code",
   "execution_count": 20,
   "id": "7035c19d-59d4-48b7-85ae-a58d58e06d09",
   "metadata": {},
   "outputs": [
    {
     "data": {
      "text/plain": [
       "1.5672756691784474e-16"
      ]
     },
     "execution_count": 20,
     "metadata": {},
     "output_type": "execute_result"
    }
   ],
   "source": [
    "cf = hy.cfunc([ELSQ, TEMPS, PL, R, RDOT, RFDOT, BETAL, TEMP3, COSU, SINU, U, SIN2U, COS2U, TEMP1, TEMP2], [N0, I0, E0, BSTAR, OMEGA0, M0, TSINCE, NODE0])\n",
    "\n",
    "res = cf([revday2radmin(12.), np.deg2rad(72.8435), 0.0086731, .66816e-4, np.deg2rad(52.6988), np.deg2rad(110.5714), 30., np.deg2rad(115.9689)])\n",
    "\n",
    "cmp_str=\"8.8243865288858958E-005  0.99991175613471117        1.2631074345129614        1.2745588804217625       -1.8145731028600308E-004   6.5575259012531209E-002  0.99995587709394018       -1.3835500592615389E-003 -0.29356655639354601      -0.95593863661180434        4.4144333219460616       0.56126322734733747      -0.82763735393446991        4.2855261968173096E-004   3.3928437753750974E-004\"\n",
    "cmp_arr = np.fromstring(cmp_str, sep=\" \")\n",
    "\n",
    "np.max(np.abs((cmp_arr - res)/cmp_arr))"
   ]
  },
  {
   "cell_type": "code",
   "execution_count": 21,
   "id": "102a11f0-1f98-403d-b051-6f4e46e0c55e",
   "metadata": {},
   "outputs": [],
   "source": [
    "# Update for short periodics.\n",
    "RK = R*(1.-1.5*TEMP2*BETAL*X3THM1)+.5*TEMP1*X1MTH2*COS2U\n",
    "UK = U-.25*TEMP2*X7THM1*SIN2U\n",
    "NODEK = NODE+1.5*TEMP2*COSI0*SIN2U\n",
    "IK = I0+1.5*TEMP2*COSI0*SINI0*COS2U\n",
    "RDOTK = RDOT-N*TEMP1*X1MTH2*SIN2U\n",
    "RFDOTK = RFDOT+N*TEMP1*(X1MTH2*COS2U+1.5*X3THM1)"
   ]
  },
  {
   "cell_type": "code",
   "execution_count": 22,
   "id": "d2c2d7cc-977f-4fcf-a53b-bc4156dd2855",
   "metadata": {},
   "outputs": [
    {
     "data": {
      "text/plain": [
       "1.7416953240983777e-16"
      ]
     },
     "execution_count": 22,
     "metadata": {},
     "output_type": "execute_result"
    }
   ],
   "source": [
    "cf = hy.cfunc([RK, UK, NODEK, IK, RDOTK, RFDOTK], [N0, I0, E0, BSTAR, OMEGA0, M0, TSINCE, NODE0])\n",
    "\n",
    "res = cf([revday2radmin(12.), np.deg2rad(72.8435), 0.0086731, .66816e-4, np.deg2rad(52.6988), np.deg2rad(110.5714), 30., np.deg2rad(115.9689)])\n",
    "\n",
    "cmp_str=\"1.2748762763084123        4.4144519313380064        2.0236524628792609        1.2712401937490736       -1.9295991858536327E-004   6.5533415849018062E-002\"\n",
    "cmp_arr = np.fromstring(cmp_str, sep=\" \")\n",
    "\n",
    "np.max(np.abs((cmp_arr - res)/cmp_arr))"
   ]
  },
  {
   "cell_type": "code",
   "execution_count": 23,
   "id": "a5c27645-de4f-472e-b77d-9d80ff39157f",
   "metadata": {},
   "outputs": [],
   "source": [
    "# Orientation vectors.\n",
    "SINUK = hy.sin(UK)\n",
    "COSUK = hy.cos(UK)\n",
    "SINIK = hy.sin(IK)\n",
    "COSIK = hy.cos(IK)\n",
    "SINNOK = hy.sin(NODEK)\n",
    "COSNOK = hy.cos(NODEK)\n",
    "MX = -SINNOK*COSIK\n",
    "MY = COSNOK*COSIK\n",
    "UX = MX*SINUK+COSNOK*COSUK\n",
    "UY = MY*SINUK+SINNOK*COSUK\n",
    "UZ = SINIK*SINUK\n",
    "VX = MX*COSUK-COSNOK*SINUK\n",
    "VY = MY*COSUK-SINNOK*SINUK\n",
    "VZ = SINIK*COSUK"
   ]
  },
  {
   "cell_type": "code",
   "execution_count": 24,
   "id": "fa77fcc8-baa5-42a6-9748-858c6498d704",
   "metadata": {},
   "outputs": [
    {
     "data": {
      "text/plain": [
       "1.6309245999665671e-16"
      ]
     },
     "execution_count": 24,
     "metadata": {},
     "output_type": "execute_result"
    }
   ],
   "source": [
    "cf = hy.cfunc([SINUK, COSUK, SINIK, COSIK, SINNOK, COSNOK, MX, MY, UX, UY, UZ, VX, VY, VZ], [N0, I0, E0, BSTAR, OMEGA0, M0, TSINCE, NODE0])\n",
    "\n",
    "res = cf([revday2radmin(12.), np.deg2rad(72.8435), 0.0086731, .66816e-4, np.deg2rad(52.6988), np.deg2rad(110.5714), 30., np.deg2rad(115.9689)])\n",
    "\n",
    "cmp_str=\"-0.95594409954138826      -0.29354876690595089       0.95546756666614729       0.29509613526624046       0.89920111058216312      -0.43753555595837523      -0.26535077255990763      -0.12911505160488243       0.38209852826648333      -0.14053260546818636      -0.91337358265767155      -0.34036614097546736       0.89748756014969366      -0.28047632601347694\"\n",
    "cmp_arr = np.fromstring(cmp_str, sep=\" \")\n",
    "\n",
    "np.max(np.abs((cmp_arr - res)/cmp_arr))"
   ]
  },
  {
   "cell_type": "code",
   "execution_count": 25,
   "id": "376dada8-fd83-4be0-a619-c8039eb91d6f",
   "metadata": {},
   "outputs": [],
   "source": [
    "# Position and Velocity\n",
    "PV1 = RK*UX\n",
    "PV2 = RK*UY\n",
    "PV3 = RK*UZ\n",
    "PV4 = RDOTK*UX+RFDOTK*VX\n",
    "PV5 = RDOTK*UY+RFDOTK*VY\n",
    "PV6 = RDOTK*UZ+RFDOTK*VZ"
   ]
  },
  {
   "cell_type": "code",
   "execution_count": 26,
   "id": "da53c28b-7473-4bae-b539-ddd48ac327dc",
   "metadata": {},
   "outputs": [
    {
     "data": {
      "text/plain": [
       "5.732008488078987e-15"
      ]
     },
     "execution_count": 26,
     "metadata": {},
     "output_type": "execute_result"
    }
   ],
   "source": [
    "sgp4 = hy.cfunc([PV1, PV2, PV3, PV4, PV5, PV6], [N0, I0, E0, BSTAR, OMEGA0, M0, TSINCE, NODE0], fast_math=True)\n",
    "\n",
    "res = sgp4([revday2radmin(12.), np.deg2rad(72.8435), 0.0086731, .66816e-4, np.deg2rad(52.6988), np.deg2rad(110.5714), 30., np.deg2rad(115.9689)])\n",
    "\n",
    "cmp_str=\"0.48712834889929890      -0.17916168475920063       -1.1644383119370860       -2.2379085558376696E-002   5.8842542658720215E-002  -1.8204327216298302E-002\"\n",
    "cmp_arr = np.fromstring(cmp_str, sep=\" \")\n",
    "\n",
    "np.max(np.abs((cmp_arr - res)/cmp_arr))"
   ]
  },
  {
   "cell_type": "code",
   "execution_count": 27,
   "id": "73738cb8-cf9a-4242-b807-58e5d393d800",
   "metadata": {},
   "outputs": [
    {
     "name": "stdout",
     "output_type": "stream",
     "text": [
      "[ 2328.969751931129  -5995.220511600548   1719.9729714023497]\n",
      "[ 2.912073280385506  -0.9834179555026153 -7.090816207952735 ]\n"
     ]
    }
   ],
   "source": [
    "res = sgp4([revday2radmin(16.05824518), np.deg2rad(72.8435), 0.0086731, .66816e-4, np.deg2rad(52.6988), np.deg2rad(110.5714), 0., np.deg2rad(115.9689)])\n",
    "print(res[:3] * KMPER)\n",
    "print(res[3:] * KMPER/60.)"
   ]
  },
  {
   "cell_type": "code",
   "execution_count": 28,
   "id": "a501ad08-c840-49fb-b7f9-8f30bd5bb8b1",
   "metadata": {},
   "outputs": [
    {
     "name": "stdout",
     "output_type": "stream",
     "text": [
      "[ 4086.3396316729295  4796.928067515364  -2562.5856280208386]\n",
      "[-5.287831886860389   1.6959008859460454 -5.265040553027974 ]\n"
     ]
    }
   ],
   "source": [
    "res = sgp4([revday2radmin(15.50103472202482), np.deg2rad(51.6439), 0.0007417, .38792e-4, np.deg2rad(17.6667), np.deg2rad(85.6398), 120., np.deg2rad(211.2001)])\n",
    "print(res[:3] * KMPER)\n",
    "print(res[3:] * KMPER/60.)"
   ]
  }
 ],
 "metadata": {
  "kernelspec": {
   "display_name": "Python 3 (ipykernel)",
   "language": "python",
   "name": "python3"
  },
  "language_info": {
   "codemirror_mode": {
    "name": "ipython",
    "version": 3
   },
   "file_extension": ".py",
   "mimetype": "text/x-python",
   "name": "python",
   "nbconvert_exporter": "python",
   "pygments_lexer": "ipython3",
   "version": "3.10.13"
  }
 },
 "nbformat": 4,
 "nbformat_minor": 5
}
