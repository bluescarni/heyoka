{
 "cells": [
  {
   "cell_type": "markdown",
   "id": "d751b954-ea38-4e9f-ad47-75fc10dbd9f2",
   "metadata": {},
   "source": [
    "Origin of the datafiles:\n",
    "\n",
    "https://iers-conventions.obspm.fr/content/chapter5/additional_info/"
   ]
  },
  {
   "cell_type": "code",
   "execution_count": 6,
   "id": "0e650179-fafd-4ba2-906a-11bf9610579f",
   "metadata": {},
   "outputs": [],
   "source": [
    "# Setup the regex to identify sections in the files.\n",
    "import re\n",
    "section_pattern = re.compile(r'^\\s*j = (\\d*)\\s*Number of terms = (\\d*)\\s*$')\n",
    "\n",
    "# Template for the header file output.\n",
    "HPP_FILE_TMPLT = r\"\"\"#ifndef HEYOKA_DETAIL_IAU2000_{0}_HPP\n",
    "#define HEYOKA_DETAIL_IAU2000_{0}_HPP\n",
    "\n",
    "#include <cstddef>\n",
    "#include <cstdint>\n",
    "\n",
    "#include <heyoka/config.hpp>\n",
    "#include <heyoka/mdspan.hpp>\n",
    "\n",
    "HEYOKA_BEGIN_NAMESPACE\n",
    "\n",
    "namespace model::detail\n",
    "{{\n",
    "\n",
    "{1}\n",
    "\n",
    "}} // namespace model::detail\n",
    "\n",
    "HEYOKA_END_NAMESPACE\n",
    "\n",
    "#endif\n",
    "\n",
    "\"\"\"\n",
    "\n",
    "# Template for the cpp file output.\n",
    "CPP_FILE_TMPLT = r\"\"\"#include <cstddef>\n",
    "#include <cstdint>\n",
    "\n",
    "#include <heyoka/config.hpp>\n",
    "#include <heyoka/detail/iau2000/{0}.hpp>\n",
    "#include <heyoka/mdspan.hpp>\n",
    "\n",
    "HEYOKA_BEGIN_NAMESPACE\n",
    "\n",
    "namespace model::detail\n",
    "{{\n",
    "\n",
    "namespace\n",
    "{{\n",
    "\n",
    "{1}\n",
    "\n",
    "}}\n",
    "\n",
    "{2}\n",
    "\n",
    "}} // namespace model::detail\n",
    "\n",
    "HEYOKA_END_NAMESPACE\n",
    "\n",
    "\"\"\""
   ]
  },
  {
   "cell_type": "code",
   "execution_count": 16,
   "id": "d07be6a0-cd41-432e-b7ce-afa51213d861",
   "metadata": {},
   "outputs": [],
   "source": [
    "def parse_iau2000_file(input_name: str, output_basename: str) -> None:\n",
    "    # Open the file, read line-by-line.\n",
    "    with open(input_name, 'r') as f:\n",
    "        lines = f.readlines()\n",
    "\n",
    "    # Look for the sections.\n",
    "    sec_descs = []\n",
    "    for idx, line in enumerate(lines):\n",
    "        m = section_pattern.match(line)\n",
    "        if m:\n",
    "            sec_descs.append((idx, int(m.groups()[0]), int(m.groups()[1])))\n",
    "\n",
    "    hpp_content = \"\"\n",
    "    cpp_content1 = \"\"\n",
    "    cpp_content2 = \"\"\n",
    "    \n",
    "    for sec_idx, desc in enumerate(sec_descs):\n",
    "        start, j_val, n_terms = desc\n",
    "        # NOTE: the data starts 2 lines after the section header.\n",
    "        begin = start+2\n",
    "\n",
    "        # Setup the hpp content for this section.\n",
    "        hpp_content += f\"extern const mdspan<const std::int8_t, extents<std::size_t, {n_terms}, 14>> iau2000_{output_basename}_args_idxs_{j_val};\\n\"\n",
    "        hpp_content += f\"extern const mdspan<const double, extents<std::size_t, {n_terms}, 2>> iau2000_{output_basename}_cfs_{j_val};\\n\\n\"\n",
    "\n",
    "        # Compute the names of the data variables for the current section.\n",
    "        args_data_name = f\"iau2000_{output_basename}_args_idxs_data_{j_val}\"\n",
    "        cfs_data_name = f\"iau2000_{output_basename}_args_cfs_data_{j_val}\"\n",
    "\n",
    "        # Create the code to initialise the spans.\n",
    "        cpp_content2 += f\"const mdspan<const std::int8_t, extents<std::size_t, {n_terms}, 14>> iau2000_{output_basename}_args_idxs_{j_val}({args_data_name});\\n\"\n",
    "        cpp_content2 += f\"const mdspan<const double, extents<std::size_t, {n_terms}, 2>> iau2000_{output_basename}_cfs_{j_val}({cfs_data_name});\\n\\n\"\n",
    "\n",
    "        # Build the data variables.\n",
    "        cur_args = f\"const std::int8_t {args_data_name}[{n_terms*14}ul] = {{\";\n",
    "        cur_cfs = f\"const double {cfs_data_name}[{n_terms*2}ul] = {{\";\n",
    "        for line_idx in range(begin, begin + n_terms):\n",
    "            line_split = lines[line_idx].split()\n",
    "            assert len(line_split) == 17\n",
    "\n",
    "            cur_args += ','.join(line_split[3:17]) + ','\n",
    "            cur_cfs += ','.join(line_split[1:3]) + ','\n",
    "        cur_args += '};\\n\\n';\n",
    "        cur_cfs += '};\\n\\n';\n",
    "\n",
    "        # Update cpp_content1.\n",
    "        cpp_content1 += cur_args + cur_cfs\n",
    "\n",
    "    # Write to the output files.\n",
    "    with open(f'{output_basename}.hpp', 'w') as f:\n",
    "        f.write(HPP_FILE_TMPLT.format(output_basename.upper(), hpp_content))\n",
    "\n",
    "    with open(f'{output_basename}.cpp', 'w') as f:\n",
    "        f.write(CPP_FILE_TMPLT.format(output_basename, cpp_content1, cpp_content2))"
   ]
  },
  {
   "cell_type": "markdown",
   "id": "13a66a1b-02f3-44d6-8212-4396b3b996e8",
   "metadata": {},
   "source": [
    "## tab5.2a.txt"
   ]
  },
  {
   "cell_type": "code",
   "execution_count": 17,
   "id": "64462322-9fb9-450d-971c-218a2fb2bc9f",
   "metadata": {},
   "outputs": [],
   "source": [
    "parse_iau2000_file('tab5.2a.txt', 'X')"
   ]
  },
  {
   "cell_type": "code",
   "execution_count": 18,
   "id": "93b8bdce-4004-4dcc-805b-9bc88ede680f",
   "metadata": {},
   "outputs": [],
   "source": [
    "parse_iau2000_file('tab5.2b.txt', 'Y')"
   ]
  },
  {
   "cell_type": "code",
   "execution_count": 19,
   "id": "af7417be-e810-4536-9359-66d6b5d7fdbe",
   "metadata": {},
   "outputs": [],
   "source": [
    "parse_iau2000_file('tab5.2d.txt', 's')"
   ]
  },
  {
   "cell_type": "code",
   "execution_count": null,
   "id": "0e317ef3-7b14-4b55-a4f2-7b38338c0b9c",
   "metadata": {},
   "outputs": [],
   "source": []
  },
  {
   "cell_type": "code",
   "execution_count": null,
   "id": "5c95c35f-07ba-4dd5-afea-5b005110c274",
   "metadata": {},
   "outputs": [],
   "source": []
  }
 ],
 "metadata": {
  "kernelspec": {
   "display_name": "Python 3 (ipykernel)",
   "language": "python",
   "name": "python3"
  },
  "language_info": {
   "codemirror_mode": {
    "name": "ipython",
    "version": 3
   },
   "file_extension": ".py",
   "mimetype": "text/x-python",
   "name": "python",
   "nbconvert_exporter": "python",
   "pygments_lexer": "ipython3",
   "version": "3.12.4"
  }
 },
 "nbformat": 4,
 "nbformat_minor": 5
}
