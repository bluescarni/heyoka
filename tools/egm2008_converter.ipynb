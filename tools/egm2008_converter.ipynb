{
 "cells": [
  {
   "cell_type": "markdown",
   "id": "7178d718-4f40-4f01-a774-2dd2946795eb",
   "metadata": {},
   "source": [
    "Original dataset:\n",
    "\n",
    "https://earth-info.nga.mil/php/download.php?file=egm-08spherical"
   ]
  },
  {
   "cell_type": "code",
   "execution_count": 25,
   "id": "09c29c10-6a19-4fb8-92b0-fe6f6b8bf058",
   "metadata": {},
   "outputs": [],
   "source": [
    "# Load the string representations of the C/S\n",
    "# coefficients up to the maximum degree into\n",
    "# a list of tuples.\n",
    "max_degree=80\n",
    "CS_list = []\n",
    "with open(\"EGM2008_to2190_TideFree\", \"r\") as f:\n",
    "    for line in f:\n",
    "        fields = line.split()\n",
    "        cur_deg = int(fields[0])\n",
    "        if cur_deg > max_degree:\n",
    "            break\n",
    "        # NOTE: replace 'D' with 'e' for parsing\n",
    "        # of doubles in C++.\n",
    "        cur_C = fields[2].replace('D','e')\n",
    "        cur_S = fields[3].replace('D','e')\n",
    "        CS_list.append((cur_C, cur_S))\n",
    "\n",
    "# Explanation: for a degree n, there are n+1 orders.\n",
    "# Hence, at degree n we expect a total of (n+1)*(n+2)/2\n",
    "# coefficients, minus 3 because the first coefficient order\n",
    "# is 2 and not 0.\n",
    "assert len(CS_list) == ((max_degree+1)*(max_degree + 2)) // 2 - 3"
   ]
  },
  {
   "cell_type": "code",
   "execution_count": 19,
   "id": "44e3d285-82bb-462b-8c2f-6295ac747bd8",
   "metadata": {},
   "outputs": [],
   "source": [
    "# Template for the header file output.\n",
    "HPP_FILE_TMPLT = r\"\"\"#ifndef HEYOKA_DETAIL_EGM2008_HPP\n",
    "#define HEYOKA_DETAIL_EGM2008_HPP\n",
    "\n",
    "#include <heyoka/config.hpp>\n",
    "\n",
    "HEYOKA_BEGIN_NAMESPACE\n",
    "\n",
    "namespace model::detail\n",
    "{{\n",
    "\n",
    "extern const double egm2008_CS[{}][2];\n",
    "\n",
    "}} // namespace model::detail\n",
    "\n",
    "HEYOKA_END_NAMESPACE\n",
    "\n",
    "#endif\n",
    "\n",
    "\"\"\"\n",
    "\n",
    "# Template for the cpp file output.\n",
    "CPP_FILE_TMPLT = r\"\"\"#include <heyoka/config.hpp>\n",
    "#include <heyoka/detail/egm2008.hpp>\n",
    "\n",
    "HEYOKA_BEGIN_NAMESPACE\n",
    "\n",
    "namespace model::detail\n",
    "{{\n",
    "\n",
    "const double egm2008_CS[{0}][2] = {1};\n",
    "\n",
    "}} // namespace model::detail\n",
    "\n",
    "HEYOKA_END_NAMESPACE\n",
    "\n",
    "\"\"\""
   ]
  },
  {
   "cell_type": "code",
   "execution_count": 33,
   "id": "cb04aaed-3d6b-4788-a0a3-ace67485f8b2",
   "metadata": {},
   "outputs": [],
   "source": [
    "# Write the files.\n",
    "with open('egm2008.hpp', 'w') as f:\n",
    "    f.write(HPP_FILE_TMPLT.format(len(CS_list)))\n",
    "\n",
    "with open('egm2008.cpp', 'w') as f:\n",
    "    f.write(CPP_FILE_TMPLT.format(len(CS_list), f'{{{',\\n'.join(f'{{{_[0]},{_[1]}}}' for _ in CS_list)}}}'))"
   ]
  }
 ],
 "metadata": {
  "kernelspec": {
   "display_name": "Python 3 (ipykernel)",
   "language": "python",
   "name": "python3"
  },
  "language_info": {
   "codemirror_mode": {
    "name": "ipython",
    "version": 3
   },
   "file_extension": ".py",
   "mimetype": "text/x-python",
   "name": "python",
   "nbconvert_exporter": "python",
   "pygments_lexer": "ipython3",
   "version": "3.12.4"
  }
 },
 "nbformat": 4,
 "nbformat_minor": 5
}
