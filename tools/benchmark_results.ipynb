{
 "cells": [
  {
   "cell_type": "code",
   "execution_count": 1,
   "id": "b4c52ce2-a81a-430c-9969-87832ee89a24",
   "metadata": {},
   "outputs": [],
   "source": [
    "%matplotlib widget\n",
    "\n",
    "from matplotlib.pylab import plt\n",
    "import numpy as np"
   ]
  },
  {
   "cell_type": "code",
   "execution_count": 2,
   "id": "8cafba93-6220-4da3-a46d-3c93194e2718",
   "metadata": {},
   "outputs": [
    {
     "data": {
      "application/vnd.jupyter.widget-view+json": {
       "model_id": "f844e78ba7a441618a0371ae2c149472",
       "version_major": 2,
       "version_minor": 0
      },
      "text/plain": [
       "Canvas(toolbar=Toolbar(toolitems=[('Home', 'Reset original view', 'home', 'home'), ('Back', 'Back to previous …"
      ]
     },
     "metadata": {},
     "output_type": "display_data"
    }
   ],
   "source": [
    "# Pendulum results.\n",
    "pendulum_data = [138., 384., 63.1, 66.5, 11.8]\n",
    "pendulum_labels = [\"DifferentialEquations.jl\\n(Vern9)\", \"TaylorIntegration.jl\",\n",
    "                   \"TaylorIntegration.jl\\n(@taylorize)\", \"Boost.ODEInt\\n(RKF78)\", \"heyoka\"]\n",
    "\n",
    "fig = plt.figure(figsize=(10, 6))\n",
    "\n",
    "plt.xticks(range(len(pendulum_data)), pendulum_labels)\n",
    "plt.ylabel('Runtime (ms)')\n",
    "\n",
    "rects = plt.bar(range(len(pendulum_data)), pendulum_data) \n",
    "for rect in rects:\n",
    "    height = rect.get_height()\n",
    "    plt.text(rect.get_x() + rect.get_width()/2., height + .2,\n",
    "             '{}'.format(height),\n",
    "             ha='center', va='bottom')\n",
    "\n",
    "plt.tick_params(bottom=None)\n",
    "\n",
    "plt.title('Pendulum')\n",
    "\n",
    "plt.tight_layout()"
   ]
  },
  {
   "cell_type": "code",
   "execution_count": 3,
   "id": "d5aed17a-152c-4d7d-8464-bc556d38cb03",
   "metadata": {},
   "outputs": [
    {
     "data": {
      "application/vnd.jupyter.widget-view+json": {
       "model_id": "a802dd3bcf934c4980831d6abdc066dd",
       "version_major": 2,
       "version_minor": 0
      },
      "text/plain": [
       "Canvas(toolbar=Toolbar(toolitems=[('Home', 'Reset original view', 'home', 'home'), ('Back', 'Back to previous …"
      ]
     },
     "metadata": {},
     "output_type": "display_data"
    }
   ],
   "source": [
    "# pcr3bp results.\n",
    "pcr3bp_data = [357., 1310., 169, 211, 21.1]\n",
    "pcr3bp_labels = [\"DifferentialEquations.jl\\n(Vern9)\", \"TaylorIntegration.jl\",\n",
    "                 \"TaylorIntegration.jl\\n(@taylorize)\", \"Boost.ODEInt\\n(RKF78)\", \"heyoka\"]\n",
    "\n",
    "fig = plt.figure(figsize=(10, 6))\n",
    "\n",
    "plt.xticks(range(len(pcr3bp_data)), pcr3bp_labels)\n",
    "plt.ylabel('Runtime (ms)')\n",
    "\n",
    "rects = plt.bar(range(len(pcr3bp_data)), pcr3bp_data) \n",
    "for rect in rects:\n",
    "    height = rect.get_height()\n",
    "    plt.text(rect.get_x() + rect.get_width()/2., height + .2,\n",
    "             '{}'.format(height),\n",
    "             ha='center', va='bottom')\n",
    "\n",
    "plt.tick_params(bottom=None)\n",
    "\n",
    "plt.title('PCR3BP')\n",
    "\n",
    "plt.tight_layout()"
   ]
  },
  {
   "cell_type": "code",
   "execution_count": 4,
   "id": "7945bac4-9eff-4d36-8cdf-6dea42644d14",
   "metadata": {},
   "outputs": [
    {
     "data": {
      "application/vnd.jupyter.widget-view+json": {
       "model_id": "32960c6304b94eaf9aba4cd5a8bf95d2",
       "version_major": 2,
       "version_minor": 0
      },
      "text/plain": [
       "Canvas(toolbar=Toolbar(toolitems=[('Home', 'Reset original view', 'home', 'home'), ('Back', 'Back to previous …"
      ]
     },
     "metadata": {},
     "output_type": "display_data"
    }
   ],
   "source": [
    "fig = plt.figure(figsize=(8, 5))\n",
    "\n",
    "data = [12.735, 64.87]\n",
    "rects = plt.bar([\"heyoka\", \"IAS15\"], data)\n",
    "plt.tick_params(bottom=None)\n",
    "plt.ylabel(\"Time (s)\")\n",
    "\n",
    "for rect in rects:\n",
    "    height = rect.get_height()\n",
    "    plt.text(rect.get_x() + rect.get_width()/2., height + .2,\n",
    "             '{}'.format(height),\n",
    "             ha='center', va='bottom')\n",
    "\n",
    "plt.ylim((None, 68))\n",
    "plt.tight_layout()"
   ]
  },
  {
   "cell_type": "code",
   "execution_count": 5,
   "id": "de0de11f-c965-42b6-b3f4-8f8bda1bb886",
   "metadata": {},
   "outputs": [
    {
     "data": {
      "application/vnd.jupyter.widget-view+json": {
       "model_id": "55c9b82ab1d545b8bad0359d34ed4ab1",
       "version_major": 2,
       "version_minor": 0
      },
      "text/plain": [
       "Canvas(toolbar=Toolbar(toolitems=[('Home', 'Reset original view', 'home', 'home'), ('Back', 'Back to previous …"
      ]
     },
     "metadata": {},
     "output_type": "display_data"
    }
   ],
   "source": [
    "# ss_3bp results, tol=1e-15.\n",
    "ss_3bp_data = [210, 640, 278, 2080, 677]\n",
    "ss_3bp_labels = [\"heyoka\",\n",
    "                 \"Vern9\",\n",
    "                 \"heyoka\\n(dense output)\",\n",
    "                 \"Vern9\\n(dense output)\",\n",
    "                 \"Boost.ODEInt\\n(RKF78)\"\n",
    "                ]\n",
    "\n",
    "ss_3bp_prec = [1.9e-9, 7.6e-8, 6.7e-8]\n",
    "ss_3bp_prec_labels = [\"heyoka\", \"Vern9\", \"Boost.ODEInt\\n(RKF78)\"]\n",
    "\n",
    "fig = plt.figure(figsize=(10, 12))\n",
    "\n",
    "plt.subplot(211)\n",
    "\n",
    "plt.xticks(range(len(ss_3bp_data)), ss_3bp_labels)\n",
    "plt.ylabel('Runtime (ms)')\n",
    "\n",
    "rects = plt.bar(range(len(ss_3bp_data)), ss_3bp_data) \n",
    "for rect in rects:\n",
    "    height = rect.get_height()\n",
    "    plt.text(rect.get_x() + rect.get_width()/2., height + .2,\n",
    "             '{}'.format(height),\n",
    "             ha='center', va='bottom')\n",
    "\n",
    "plt.tick_params(bottom=None)\n",
    "\n",
    "plt.subplot(212)\n",
    "\n",
    "plt.yscale('log')\n",
    "plt.xticks(range(len(ss_3bp_prec)), ss_3bp_prec_labels)\n",
    "plt.ylabel('Error RMS')\n",
    "\n",
    "rects = plt.bar(range(len(ss_3bp_prec)), ss_3bp_prec) \n",
    "for rect in rects:\n",
    "    height = rect.get_height()\n",
    "    plt.text(rect.get_x() + rect.get_width()/2., height,\n",
    "             '{}'.format(height),\n",
    "             ha='center', va='bottom')\n",
    "\n",
    "plt.ylim((1e-11, 1e-6))\n",
    "\n",
    "plt.tick_params(bottom=None)\n",
    "\n",
    "fig.suptitle(r'Planetary three-body problem - $\\mathrm{tol}=10^{-15}$', fontsize=14)\n",
    "\n",
    "plt.tight_layout()\n",
    "\n",
    "plt.savefig('ss_3bp_15.png')"
   ]
  },
  {
   "cell_type": "code",
   "execution_count": 6,
   "id": "7827b3ee-38e1-459a-882f-ca27fef7af3d",
   "metadata": {},
   "outputs": [
    {
     "data": {
      "application/vnd.jupyter.widget-view+json": {
       "model_id": "b0001ed6dcb24beeba183ad655aa3a0c",
       "version_major": 2,
       "version_minor": 0
      },
      "text/plain": [
       "Canvas(toolbar=Toolbar(toolitems=[('Home', 'Reset original view', 'home', 'home'), ('Back', 'Back to previous …"
      ]
     },
     "metadata": {},
     "output_type": "display_data"
    }
   ],
   "source": [
    "# ss_3bp results, tol=1e-9.\n",
    "ss_3bp_data = [98.8, 147, 152, 828, 117]\n",
    "ss_3bp_labels = [\"heyoka\",\n",
    "                 \"Vern9\",\n",
    "                 \"heyoka\\n(dense output)\",\n",
    "                 \"Vern9\\n(dense output)\",\n",
    "                 \"Boost.ODEInt\\n(RKF78)\"\n",
    "                ]\n",
    "\n",
    "ss_3bp_prec = [3.6e-3, 5.3e-3, 0.46]\n",
    "ss_3bp_prec_labels = [\"heyoka\", \"Vern9\", \"Boost.ODEInt\\n(RKF78)\"]\n",
    "\n",
    "fig = plt.figure(figsize=(10, 12))\n",
    "\n",
    "plt.subplot(211)\n",
    "\n",
    "plt.xticks(range(len(ss_3bp_data)), ss_3bp_labels)\n",
    "plt.ylabel('Runtime (ms)')\n",
    "\n",
    "rects = plt.bar(range(len(ss_3bp_data)), ss_3bp_data) \n",
    "for rect in rects:\n",
    "    height = rect.get_height()\n",
    "    plt.text(rect.get_x() + rect.get_width()/2., height + .2,\n",
    "             '{}'.format(height),\n",
    "             ha='center', va='bottom')\n",
    "\n",
    "plt.tick_params(bottom=None)\n",
    "\n",
    "plt.subplot(212)\n",
    "\n",
    "plt.yscale('log')\n",
    "plt.xticks(range(len(ss_3bp_prec)), ss_3bp_prec_labels)\n",
    "plt.ylabel('Error RMS')\n",
    "\n",
    "rects = plt.bar(range(len(ss_3bp_prec)), ss_3bp_prec) \n",
    "for rect in rects:\n",
    "    height = rect.get_height()\n",
    "    plt.text(rect.get_x() + rect.get_width()/2., height,\n",
    "             '{}'.format(height),\n",
    "             ha='center', va='bottom')\n",
    "\n",
    "#plt.ylim((1e-11, 1e-6))\n",
    "\n",
    "plt.tick_params(bottom=None)\n",
    "\n",
    "fig.suptitle(r'Planetary three-body problem - $\\mathrm{tol}=10^{-9}$', fontsize=14)\n",
    "\n",
    "plt.tight_layout()\n",
    "\n",
    "plt.savefig('ss_3bp_9.png')"
   ]
  },
  {
   "cell_type": "code",
   "execution_count": 19,
   "id": "642ea5a7-3c16-4bf4-bbee-43d229de21b9",
   "metadata": {},
   "outputs": [
    {
     "data": {
      "application/vnd.jupyter.widget-view+json": {
       "model_id": "cdacd02f8d5046b69fec959536d8e123",
       "version_major": 2,
       "version_minor": 0
      },
      "text/plain": [
       "Canvas(toolbar=Toolbar(toolitems=[('Home', 'Reset original view', 'home', 'home'), ('Back', 'Back to previous …"
      ]
     },
     "metadata": {},
     "output_type": "display_data"
    }
   ],
   "source": [
    "# Event detection results.\n",
    "ed_data = [1.5, 2.6, 8.88, 80.7, 10.8, 45.7]\n",
    "ed_labels = [\"heyoka\\n(no event)\",\n",
    "             \"heyoka\\n(with event)\",\n",
    "             \"Vern9\\n(no event)\",\n",
    "             \"Vern9\\n(with event)\",\n",
    "             \"DP8\\n(no event)\",\n",
    "             \"DP8\\n(with event)\",\n",
    "            ]\n",
    "\n",
    "fig = plt.figure(figsize=(10, 6))\n",
    "\n",
    "plt.subplot(111)\n",
    "\n",
    "plt.xticks(range(len(ed_data)), ed_labels)\n",
    "plt.ylabel('Runtime (ms)')\n",
    "\n",
    "rects = plt.bar(range(len(ed_data)), ed_data) \n",
    "for rect in rects:\n",
    "    height = rect.get_height()\n",
    "    plt.text(rect.get_x() + rect.get_width()/2., height + .2,\n",
    "             '{}'.format(height),\n",
    "             ha='center', va='bottom')\n",
    "\n",
    "plt.tick_params(bottom=None)\n",
    "\n",
    "fig.suptitle(r'Event detection - $\\mathrm{tol}=10^{-15}$', fontsize=14)\n",
    "\n",
    "plt.tight_layout()\n",
    "\n",
    "plt.savefig('event_det.png')"
   ]
  },
  {
   "cell_type": "code",
   "execution_count": null,
   "id": "e3f79098-b7b6-486d-9356-d1552faab28b",
   "metadata": {},
   "outputs": [],
   "source": []
  }
 ],
 "metadata": {
  "kernelspec": {
   "display_name": "Python 3 (ipykernel)",
   "language": "python",
   "name": "python3"
  },
  "language_info": {
   "codemirror_mode": {
    "name": "ipython",
    "version": 3
   },
   "file_extension": ".py",
   "mimetype": "text/x-python",
   "name": "python",
   "nbconvert_exporter": "python",
   "pygments_lexer": "ipython3",
   "version": "3.8.10"
  }
 },
 "nbformat": 4,
 "nbformat_minor": 5
}
