{
 "cells": [
  {
   "cell_type": "markdown",
   "id": "dee8b8c5-6835-4a1b-933d-aa47c08007f6",
   "metadata": {},
   "source": [
    "# SGP4 implementation\n",
    "\n",
    "This notebook is a step-by-step implementation of the SGP4 algorithm in the heyoka.py expression system, adapted from the ``sgp4.f`` file here:\n",
    "\n",
    "https://aim.hamptonu.edu/archive/cips/documentation/software/common/astron_lib/\n",
    "\n",
    "The implementation incorporates also several code updates from the most recent version of the official C++ code from celestrak:\n",
    "\n",
    "https://celestrak.org/software/vallado-sw.php\n",
    "\n",
    "The code updates (flagged by comments in our implementation) include:\n",
    "\n",
    "- workarounds for numerical issues for low eccentricity and/or inclination close to 180 degrees,\n",
    "- an updated way to \"un-Kozai\" the mean motion.\n",
    "\n",
    "The implementation splits the original code in blocks, so that it is possible to compare block-by-block the intermediate numerical values produced by this implementation with the intermediate values produced by the official C++ implementation.\n",
    "\n",
    "On selected test cases, the agreement with the official C++ code is to machine epsilon ($\\sim 10^{-16}$) up to the point of invoking the Kepler solver. The Kepler solver of the C++ implementation uses a tolerance of $10^{-12}$, while our Kepler solver tries to go down to machine precision. This introduces an \"error\" wrt the C++ implementation with a relative magnitude in the order of $\\lesssim 10^{-13}$.\n",
    "\n",
    "Comprehensive testing via the [sgp4 Python module](https://pypi.org/project/sgp4/) using the full catalog of LEO objects from [space track](http://www.space-track.org/) shows a maximum positional error of our implementation of around $10^{-5}\\,\\mathrm{m}$."
   ]
  },
  {
   "cell_type": "code",
   "execution_count": 1,
   "id": "66d00240-02ee-4c5e-9fd7-acc3c9ffebb8",
   "metadata": {},
   "outputs": [],
   "source": [
    "import heyoka as hy\n",
    "\n",
    "# Small abs() wrapper.\n",
    "def ABS(x):\n",
    "    return hy.select(hy.gte(x, 0.), x, -x)\n",
    "\n",
    "# ACTAN() wrapper.\n",
    "def ACTAN(a, b):\n",
    "    import math\n",
    "    \n",
    "    ret = hy.atan2(a, b)\n",
    "    return hy.select(hy.gte(ret, 0.), ret, 2*math.pi + ret)\n",
    "\n",
    "# max() wrapper.\n",
    "def MAX(a, b):\n",
    "    return hy.select(hy.gt(a, b), a, b)\n",
    "\n",
    "# min() wrapper.\n",
    "def MIN(a, b):\n",
    "    return hy.select(hy.lt(a, b), a, b)\n",
    "\n",
    "import numpy as np\n",
    "np.set_printoptions(precision=16)\n",
    "\n",
    "# Conversion from revolutions per day to\n",
    "# rad per minute.\n",
    "def revday2radmin(x):\n",
    "    import math\n",
    "    return x*2.*math.pi/1440."
   ]
  },
  {
   "cell_type": "code",
   "execution_count": 2,
   "id": "d03b7735-d3f4-401a-abc5-0d94495839e3",
   "metadata": {},
   "outputs": [],
   "source": [
    "# The inputs.\n",
    "N0, I0, E0, BSTAR, OMEGA0, M0, TSINCE, NODE0 = hy.make_vars(\"N0\", \"I0\", \"E0\", \"BSTAR\", \"OMEGA0\", \"M0\", \"TSINCE\", \"NODE0\")"
   ]
  },
  {
   "cell_type": "code",
   "execution_count": 3,
   "id": "35d97e56-f600-40df-bd1c-e8f3b54f094c",
   "metadata": {},
   "outputs": [],
   "source": [
    "# Numerical values for the inputs.\n",
    "# NOTE: these are taken from the following TLE:\n",
    "# 0 CBERS 1 DEB\n",
    "# 1 32072U 99057QL  24163.54236549  .00515712  00000-0  11175-1 0  9995\n",
    "# 2 32072  98.3151 237.3565 0011633 245.8809 114.1219 15.42369692   639\n",
    "n0_val = revday2radmin(15.42369692)\n",
    "i0_val = np.deg2rad(98.3151)\n",
    "e0_val = .0011633\n",
    "bstar_val = .11175e-1\n",
    "omega0_val = np.deg2rad(245.8809)\n",
    "m0_val = np.deg2rad(114.1219)\n",
    "tsince_val = 34619.0103648098\n",
    "node0_val = np.deg2rad(237.3565)\n",
    "\n",
    "num_vals = [n0_val, i0_val, e0_val, bstar_val, omega0_val, m0_val, tsince_val, node0_val]"
   ]
  },
  {
   "cell_type": "code",
   "execution_count": 4,
   "id": "1d754e68-44a6-4522-99ef-4314612f66e3",
   "metadata": {},
   "outputs": [],
   "source": [
    "# Constants.\n",
    "# NOTE: these are from the WGS72 model.\n",
    "# It is possible to update these constants\n",
    "# to WGS84 if needed, see the official C++\n",
    "# code.\n",
    "KE=0.07436691613317342\n",
    "TOTHRD=2/3.\n",
    "J2=1.082616e-3\n",
    "CK2=.5*J2\n",
    "KMPER=6378.135\n",
    "S0=20./KMPER\n",
    "S1=78./KMPER\n",
    "Q0=120./KMPER\n",
    "J3=-0.253881e-5\n",
    "A3OVK2=-J3/CK2\n",
    "J4=-0.00000165597\n",
    "CK4=-.375*J4\n",
    "SIMPHT=220./KMPER"
   ]
  },
  {
   "cell_type": "code",
   "execution_count": 5,
   "id": "a3bcc87d-6279-4766-8fa9-5505b0d8180a",
   "metadata": {},
   "outputs": [],
   "source": [
    "# Recover original mean motion (N0DP) and semimajor axis (A0DP)\n",
    "# from input elements.\n",
    "A1 = (KE/N0)**TOTHRD\n",
    "COSI0 = hy.cos(I0)\n",
    "THETA2 = COSI0**2\n",
    "X3THM1 = 3.*THETA2-1.\n",
    "BETA02 = 1.-E0**2\n",
    "BETA0 = hy.sqrt(BETA02)\n",
    "DELA2 = 1.5*CK2*X3THM1/(BETA0*BETA02)\n",
    "DEL1 = DELA2/A1**2\n",
    "A0 = A1*(1.-DEL1*(1./3.+DEL1*(1.+134./81.*DEL1)))\n",
    "DEL0 = DELA2/A0**2\n",
    "N0DP = N0/(1.+DEL0)"
   ]
  },
  {
   "cell_type": "code",
   "execution_count": 6,
   "id": "f49afc30-c861-4f55-a375-12dbe3152511",
   "metadata": {},
   "outputs": [
    {
     "data": {
      "text/plain": [
       "array([ 1.0688479837924532e+00, -1.4461698027886044e-01,\n",
       "        2.0914070984976309e-02, -9.3725778704507112e-01,\n",
       "        9.9999864673311001e-01,  9.9999932336632613e-01,\n",
       "       -7.6101925207740218e-04, -6.6613730990550167e-04,\n",
       "        1.0690848431992177e+00, -6.6584217260072444e-04,\n",
       "        6.7343413605752703e-02])"
      ]
     },
     "execution_count": 6,
     "metadata": {},
     "output_type": "execute_result"
    }
   ],
   "source": [
    "cf = hy.cfunc([A1, COSI0, THETA2, X3THM1, BETA02, BETA0, DELA2, DEL1, A0, DEL0, N0DP], [N0, I0, E0, BSTAR, OMEGA0, M0, TSINCE, NODE0])\n",
    "\n",
    "res = cf(num_vals)\n",
    "\n",
    "res"
   ]
  },
  {
   "cell_type": "code",
   "execution_count": 7,
   "id": "de990e4a-86c3-4336-bd2f-67a20c1d6a30",
   "metadata": {},
   "outputs": [],
   "source": [
    "# Initialization for new element set.\n",
    "#\n",
    "# UPDATE: for the computation of A0DP,\n",
    "# we use the new C++ code. The original\n",
    "# Fortran code used this instead:\n",
    "#\n",
    "# A0DP = A0/(1.-DEL0)\n",
    "#\n",
    "# Not entirely sure how these two definitions\n",
    "# relate - perhaps the original one is an\n",
    "# approximated form of the updated one?\n",
    "A0DP = (KE / N0DP )**TOTHRD\n",
    "PERIGE = A0DP*(1.-E0)-1.\n",
    "S = MIN(MAX(S0,PERIGE-S1),S1)\n",
    "S4 = 1.+S\n",
    "PINVSQ = 1./(A0DP*BETA02)**2\n",
    "XI = 1./(A0DP-S4)\n",
    "ETA = A0DP*XI*E0\n",
    "ETASQ = ETA**2\n",
    "EETA = E0*ETA\n",
    "PSISQ = ABS(1.-ETASQ)\n",
    "COEF = ((Q0-S)*XI)**4\n",
    "COEF1 = COEF/(hy.sqrt(PSISQ)*PSISQ**3)\n",
    "C1 = BSTAR*COEF1*N0DP*(A0DP*(1.+1.5*ETASQ+EETA*(4.+ETASQ))+0.75*CK2*XI/PSISQ*X3THM1*(8.+3.*ETASQ*(8.+ETASQ)))"
   ]
  },
  {
   "cell_type": "code",
   "execution_count": 8,
   "id": "83def5c3-bb39-4923-a312-b7fc152b870e",
   "metadata": {},
   "outputs": [
    {
     "data": {
      "text/plain": [
       "array([1.0683734750822533e+00, 6.7130636218690171e-02,\n",
       "       1.2229280189271628e-02, 1.0122292801892716e+00,\n",
       "       8.7610262435118980e-01, 1.7811280434355368e+01,\n",
       "       2.2136551533639422e-02, 4.9002691380147379e-04,\n",
       "       2.5751450399082737e-05, 9.9950997308619849e-01,\n",
       "       1.8923562487440558e-04, 1.8956053996213782e-04,\n",
       "       1.4478799348179415e-07])"
      ]
     },
     "execution_count": 8,
     "metadata": {},
     "output_type": "execute_result"
    }
   ],
   "source": [
    "cf = hy.cfunc([A0DP, PERIGE, S, S4, PINVSQ, XI, ETA, ETASQ, EETA, PSISQ, COEF, COEF1, C1], [N0, I0, E0, BSTAR, OMEGA0, M0, TSINCE, NODE0])\n",
    "\n",
    "res = cf(num_vals)\n",
    "\n",
    "res"
   ]
  },
  {
   "cell_type": "code",
   "execution_count": 9,
   "id": "6bb92669-bcdc-42b4-bb3a-214ccf8b6a22",
   "metadata": {},
   "outputs": [],
   "source": [
    "SINI0 = hy.sin(I0)\n",
    "# UPDATE: clamp for small eccentricity values.\n",
    "C3 = hy.select(hy.gt(E0, 1.0e-4), COEF*XI*A3OVK2*N0DP*SINI0/E0, 0.)\n",
    "X1MTH2 = 1.-THETA2\n",
    "C4 = 2.*N0DP*COEF1*A0DP*BETA02*(ETA*(2.+.5*ETASQ)+E0*(.5+2.*ETASQ)-2.*CK2*XI/(A0DP*PSISQ)*(-3.*X3THM1*(1.-2.*EETA+ETASQ*(1.5-.5*EETA))+.75*X1MTH2*(2.*ETASQ-EETA*(1.+ETASQ))*hy.cos(2.*OMEGA0)))\n",
    "C5 = 2.*COEF1*A0DP*BETA02*(1.+2.75*(ETASQ+EETA)+EETA*ETASQ)\n",
    "THETA4 = THETA2**2\n",
    "TEMP1 = 3.*CK2*PINVSQ*N0DP\n",
    "TEMP2 = TEMP1*CK2*PINVSQ\n",
    "TEMP3 = 1.25*CK4*PINVSQ**2*N0DP\n",
    "MDOT = N0DP+.5*TEMP1*BETA0*X3THM1+.0625*TEMP2*BETA0*(13.-78.*THETA2+137.*THETA4)\n",
    "OMGDOT = -.5*TEMP1*(1.-5.*THETA2)+0.0625*TEMP2*(7.-114.*THETA2+395.*THETA4)+TEMP3*(3.-36.*THETA2+49.*THETA4)\n",
    "HDOT1 = -TEMP1*COSI0\n",
    "N0DOT = HDOT1+(.5*TEMP2*(4.-19.*THETA2)+2.*TEMP3*(3.-7.*THETA2))*COSI0\n",
    "OMGCOF = BSTAR*C3*hy.cos(OMEGA0)\n",
    "# UPDATE: clamp for small eccentricity values.\n",
    "MCOF = hy.select(hy.gt(E0, 1.0e-4), -TOTHRD*COEF*BSTAR/EETA, 0.)\n",
    "NODCF = 3.5*BETA02*HDOT1*C1\n",
    "T2COF = 1.5*C1\n",
    "# UPDATE: clamp for inclination close to 180 deg.\n",
    "LCOF = .125*A3OVK2*SINI0*(3.+5.*COSI0)/hy.select(hy.gt(ABS(1.+COSI0), 1.5e-12),1.+COSI0,1.5e-12)\n",
    "AYCOF = .25*A3OVK2*SINI0\n",
    "DELM0 = (1.+ETA*hy.cos(M0))**3\n",
    "SINM0 = hy.sin(M0)\n",
    "X7THM1 = 7.*THETA2-1."
   ]
  },
  {
   "cell_type": "code",
   "execution_count": 10,
   "id": "da37e31a-58b6-4a44-977f-a26a74af437d",
   "metadata": {},
   "outputs": [
    {
     "data": {
      "text/plain": [
       "array([ 9.8948771039110117e-01,  9.0551906424407916e-04,\n",
       "        9.7908592901502367e-01, -1.6199118226530441e-07,\n",
       "        4.0561687084828278e-04,  4.3739836516462789e-04,\n",
       "        9.5811096041508684e-05,  4.5437584430632589e-08,\n",
       "        4.0123502306567769e-08,  6.7298546243758917e-02,\n",
       "       -4.2791427843667610e-05,  1.3855911386730865e-05,\n",
       "        1.3810958581583456e-05, -4.1350466483793344e-06,\n",
       "       -5.4746640809192580e-02,  7.0215841243219005e-12,\n",
       "        2.1718199022269122e-07,  1.5441603063899533e-03,\n",
       "        1.1602088339808536e-03,  9.7310453686073950e-01,\n",
       "        9.1267803558518124e-01, -8.5360150310516580e-01])"
      ]
     },
     "execution_count": 10,
     "metadata": {},
     "output_type": "execute_result"
    }
   ],
   "source": [
    "cf = hy.cfunc([SINI0, C3, X1MTH2, C4, C5, THETA4, TEMP1, TEMP2, TEMP3, MDOT, OMGDOT, HDOT1, N0DOT, OMGCOF, MCOF, NODCF, T2COF, LCOF, AYCOF, DELM0, SINM0, X7THM1], [N0, I0, E0, BSTAR, OMEGA0, M0, TSINCE, NODE0])\n",
    "\n",
    "res = cf(num_vals)\n",
    "\n",
    "res"
   ]
  },
  {
   "cell_type": "code",
   "execution_count": 11,
   "id": "e32f7a32-1aa3-444f-8b03-24ae6b96c094",
   "metadata": {},
   "outputs": [],
   "source": [
    "# For perigee less than 220 kilometers, the equations are\n",
    "# truncated to linear variation in sqrt A and quadratic\n",
    "# variation in mean anomaly.  Also, the C3 term, the\n",
    "# delta OMEGA term, and the delta M term are dropped.\n",
    "C1SQ = C1**2\n",
    "D2 = 4.*A0DP*XI*C1SQ\n",
    "TEMP0 = D2*XI*C1/3.\n",
    "D3 = (17.*A0DP+S4)*TEMP0\n",
    "D4 = .5*TEMP0*A0DP*XI*(221.*A0DP+31.*S4)*C1\n",
    "T3COF = D2+2.*C1SQ\n",
    "T4COF = .25*(3.*D3+C1*(12.*D2+10.*C1SQ))\n",
    "T5COF = .2*(3.*D4+12.*C1*D3+6.*D2**2+15.*C1SQ*(2.*D2+C1SQ))"
   ]
  },
  {
   "cell_type": "code",
   "execution_count": 12,
   "id": "a2ab2fee-02dc-4987-8308-68c26012f342",
   "metadata": {},
   "outputs": [
    {
     "data": {
      "text/plain": [
       "array([2.0963563056484068e-14, 1.5956709152533625e-12,\n",
       "       1.3716703957086080e-18, 2.6301201481926194e-17,\n",
       "       5.0544922331187351e-22, 1.6375980413663305e-12,\n",
       "       2.0426591262252964e-17, 3.1566639254383900e-22])"
      ]
     },
     "execution_count": 12,
     "metadata": {},
     "output_type": "execute_result"
    }
   ],
   "source": [
    "cf = hy.cfunc([C1SQ, D2, TEMP0, D3, D4, T3COF, T4COF, T5COF], [N0, I0, E0, BSTAR, OMEGA0, M0, TSINCE, NODE0])\n",
    "\n",
    "res = cf(num_vals)\n",
    "\n",
    "res"
   ]
  },
  {
   "cell_type": "code",
   "execution_count": 13,
   "id": "475fae50-cb01-4c84-939a-e5f317a99158",
   "metadata": {},
   "outputs": [],
   "source": [
    "# Update for secular gravity and atmospheric drag.\n",
    "MP = M0+MDOT*TSINCE\n",
    "OMEGA = OMEGA0+OMGDOT*TSINCE\n",
    "NODE = NODE0+(N0DOT+NODCF*TSINCE)*TSINCE\n",
    "TEMPE = C4*TSINCE\n",
    "TEMPA = 1.-C1*TSINCE\n",
    "TEMPL = T2COF\n",
    "TEMPF = MCOF*((1.+ETA*hy.cos(MP))**3-DELM0)+OMGCOF*TSINCE\n",
    "# The conditional updates.\n",
    "MP = MP + hy.select(hy.gte(PERIGE, SIMPHT), TEMPF, 0.)\n",
    "OMEGA = OMEGA - hy.select(hy.gte(PERIGE, SIMPHT), TEMPF, 0.)\n",
    "TEMPE = TEMPE + hy.select(hy.gte(PERIGE, SIMPHT), C5*(hy.sin(MP)-SINM0), 0.)\n",
    "TEMPA = TEMPA - hy.select(hy.gte(PERIGE, SIMPHT),(D2+(D3+D4*TSINCE)*TSINCE)*TSINCE**2, 0.)\n",
    "TEMPL = TEMPL + hy.select(hy.gte(PERIGE, SIMPHT),(T3COF+(T4COF+T5COF*TSINCE)*TSINCE)*TSINCE, 0.)\n",
    "A = A0DP*TEMPA**2\n",
    "N = KE/hy.sqrt(A**3)\n",
    "E = E0-TEMPE*BSTAR\n",
    "# UPDATE: clamp for small eccentricity values.\n",
    "E = hy.select(hy.lt(E, 1e-6), 1e-6, E)\n",
    "TEMPL = TEMPL*TSINCE**2"
   ]
  },
  {
   "cell_type": "code",
   "execution_count": 14,
   "id": "091ab0a8-3781-4d25-89e3-3247a668c9c0",
   "metadata": {},
   "outputs": [
    {
     "data": {
      "text/plain": [
       "array([ 2.3316535179932898e+03,  2.9573892483855082e+00,\n",
       "        4.6291893434965505e+00, -5.7519067229317112e-03,\n",
       "        9.9125797253869452e-01,  3.7326747535417422e+02,\n",
       "        1.0497756229192925e+00,  6.9140902940034193e-02,\n",
       "        1.2275775576287618e-03])"
      ]
     },
     "execution_count": 14,
     "metadata": {},
     "output_type": "execute_result"
    }
   ],
   "source": [
    "cf = hy.cfunc([MP, OMEGA, NODE, TEMPE, TEMPA, TEMPL, A, N, E], [N0, I0, E0, BSTAR, OMEGA0, M0, TSINCE, NODE0])\n",
    "\n",
    "res = cf(num_vals)\n",
    "\n",
    "res"
   ]
  },
  {
   "cell_type": "code",
   "execution_count": 15,
   "id": "0c7406cb-46ae-4db9-b487-c9faa5757b0b",
   "metadata": {},
   "outputs": [],
   "source": [
    "# Long period periodics.\n",
    "AXN = E*hy.cos(OMEGA)\n",
    "AB = A*(1.-E**2)\n",
    "AYN = AYCOF/AB+E*hy.sin(OMEGA)"
   ]
  },
  {
   "cell_type": "code",
   "execution_count": 16,
   "id": "4bfa6ce6-506d-411b-b56f-b105dfd8e275",
   "metadata": {},
   "outputs": [
    {
     "data": {
      "text/plain": [
       "array([-0.0012068099769773,  1.0497740409634237,  0.0013300460012562])"
      ]
     },
     "execution_count": 16,
     "metadata": {},
     "output_type": "execute_result"
    }
   ],
   "source": [
    "cf = hy.cfunc([AXN, AB, AYN], [N0, I0, E0, BSTAR, OMEGA0, M0, TSINCE, NODE0])\n",
    "\n",
    "res = cf(num_vals)\n",
    "\n",
    "res"
   ]
  },
  {
   "cell_type": "code",
   "execution_count": 17,
   "id": "646109df-87db-45ae-bb55-d944f7a30c46",
   "metadata": {},
   "outputs": [],
   "source": [
    "# NOTE: this is the original Kepler-like solver, commented out\n",
    "# because we can use the kepF() function from heyoka.py in its place.\n",
    "# CAPU = FMOD2P(LCOF*AXN/AB+MP+OMEGA+N0DP*TEMPL)\n",
    "# EPWNEW = CAPU\n",
    "# for _ in range(10):\n",
    "#     EPW = EPWNEW\n",
    "#     SINEPW = hy.sin(EPW)\n",
    "#     COSEPW = hy.cos(EPW)\n",
    "#     ESINE = AXN*SINEPW-AYN*COSEPW\n",
    "#     ECOSE = AXN*COSEPW+AYN*SINEPW\n",
    "#     EPWNEW = (CAPU+ESINE-EPW)/(1.-ECOSE)+EPW"
   ]
  },
  {
   "cell_type": "code",
   "execution_count": 18,
   "id": "04782f01-57b5-402b-8417-2d082cc8a8e5",
   "metadata": {},
   "outputs": [],
   "source": [
    "# Solve Kepler's equation.\n",
    "CAPU = LCOF*AXN/AB+MP+OMEGA+N0DP*TEMPL\n",
    "EPWNEW = hy.kepF(AYN, AXN, CAPU)\n",
    "SINEPW = hy.sin(EPWNEW)\n",
    "COSEPW = hy.cos(EPWNEW)\n",
    "ESINE = AXN*SINEPW-AYN*COSEPW\n",
    "ECOSE = AXN*COSEPW+AYN*SINEPW"
   ]
  },
  {
   "cell_type": "code",
   "execution_count": 19,
   "id": "594d428b-a3ee-4eb5-beae-30e28aa57314",
   "metadata": {},
   "outputs": [
    {
     "data": {
      "text/plain": [
       "array([ 2.3597480114448749e+03, -4.0193725348674864e-01,\n",
       "       -9.1566721261576756e-01,  1.7029414022476496e-03,\n",
       "        5.7044129101975450e-04])"
      ]
     },
     "execution_count": 19,
     "metadata": {},
     "output_type": "execute_result"
    }
   ],
   "source": [
    "cf = hy.cfunc([CAPU, SINEPW, COSEPW, ESINE, ECOSE], [N0, I0, E0, BSTAR, OMEGA0, M0, TSINCE, NODE0])\n",
    "\n",
    "res = cf(num_vals)\n",
    "\n",
    "res"
   ]
  },
  {
   "cell_type": "code",
   "execution_count": 20,
   "id": "41c68d74-780d-4207-aca2-c313a0f28de8",
   "metadata": {},
   "outputs": [],
   "source": [
    "# Short period preliminary quantities\n",
    "ELSQ = AXN**2+AYN**2\n",
    "TEMPS = 1.-ELSQ\n",
    "PL = A*TEMPS\n",
    "R = A*(1.-ECOSE)\n",
    "RDOT = KE*hy.sqrt(A)*ESINE/R\n",
    "RFDOT = KE*hy.sqrt(PL)/R\n",
    "BETAL = hy.sqrt(TEMPS)\n",
    "TEMP3 = ESINE/(1.+BETAL)\n",
    "COSU = (COSEPW-AXN+AYN*TEMP3)*A/R\n",
    "SINU = (SINEPW-AYN-AXN*TEMP3)*A/R\n",
    "U = ACTAN(SINU,COSU)\n",
    "SIN2U = 2.*SINU*COSU\n",
    "COS2U = 2.*COSU**2-1.\n",
    "TEMP1 = CK2/PL\n",
    "TEMP2 = TEMP1/PL"
   ]
  },
  {
   "cell_type": "code",
   "execution_count": 21,
   "id": "7035c19d-59d4-48b7-85ae-a58d58e06d09",
   "metadata": {},
   "outputs": [
    {
     "data": {
      "text/plain": [
       "array([ 3.2254126859894749e-06,  9.9999677458731406e-01,\n",
       "        1.0497722369596809e+00,  1.0491767875576734e+00,\n",
       "        1.2367418156586886e-04,  7.2623744981675939e-02,\n",
       "        9.9999838729235657e-01,  8.5147138771103235e-04,\n",
       "       -9.1498121320719650e-01, -4.0349644295568049e-01,\n",
       "        3.5569276221491659e+00,  7.3838332980075383e-01,\n",
       "        6.7438124104422625e-01,  5.1564328045835932e-04,\n",
       "        4.9119538725061931e-04])"
      ]
     },
     "execution_count": 21,
     "metadata": {},
     "output_type": "execute_result"
    }
   ],
   "source": [
    "cf = hy.cfunc([ELSQ, TEMPS, PL, R, RDOT, RFDOT, BETAL, TEMP3, COSU, SINU, U, SIN2U, COS2U, TEMP1, TEMP2], [N0, I0, E0, BSTAR, OMEGA0, M0, TSINCE, NODE0])\n",
    "\n",
    "res = cf(num_vals)\n",
    "\n",
    "res"
   ]
  },
  {
   "cell_type": "code",
   "execution_count": 22,
   "id": "102a11f0-1f98-403d-b051-6f4e46e0c55e",
   "metadata": {},
   "outputs": [],
   "source": [
    "# Update for short periodics.\n",
    "RK = R*(1.-1.5*TEMP2*BETAL*X3THM1)+.5*TEMP1*X1MTH2*COS2U\n",
    "UK = U-.25*TEMP2*X7THM1*SIN2U\n",
    "NODEK = NODE+1.5*TEMP2*COSI0*SIN2U\n",
    "IK = I0+1.5*TEMP2*COSI0*SINI0*COS2U\n",
    "RDOTK = RDOT-N*TEMP1*X1MTH2*SIN2U\n",
    "RFDOTK = RFDOT+N*TEMP1*(X1MTH2*COS2U+1.5*X3THM1)"
   ]
  },
  {
   "cell_type": "code",
   "execution_count": 23,
   "id": "d2c2d7cc-977f-4fcf-a53b-bc4156dd2855",
   "metadata": {},
   "outputs": [
    {
     "data": {
      "text/plain": [
       "array([1.0500715449591582e+00, 3.5570050204350880e+00,\n",
       "       4.6291106666923412e+00, 1.7158510976081480e+00,\n",
       "       9.7899868348241692e-05, 7.2597162480580721e-02])"
      ]
     },
     "execution_count": 23,
     "metadata": {},
     "output_type": "execute_result"
    }
   ],
   "source": [
    "cf = hy.cfunc([RK, UK, NODEK, IK, RDOTK, RFDOTK], [N0, I0, E0, BSTAR, OMEGA0, M0, TSINCE, NODE0])\n",
    "\n",
    "res = cf(num_vals)\n",
    "\n",
    "res"
   ]
  },
  {
   "cell_type": "code",
   "execution_count": 24,
   "id": "a5c27645-de4f-472e-b77d-9d80ff39157f",
   "metadata": {},
   "outputs": [],
   "source": [
    "# Orientation vectors.\n",
    "SINUK = hy.sin(UK)\n",
    "COSUK = hy.cos(UK)\n",
    "SINIK = hy.sin(IK)\n",
    "COSIK = hy.cos(IK)\n",
    "SINNOK = hy.sin(NODEK)\n",
    "COSNOK = hy.cos(NODEK)\n",
    "MX = -SINNOK*COSIK\n",
    "MY = COSNOK*COSIK\n",
    "UX = MX*SINUK+COSNOK*COSUK\n",
    "UY = MY*SINUK+SINNOK*COSUK\n",
    "UZ = SINIK*SINUK\n",
    "VX = MX*COSUK-COSNOK*SINUK\n",
    "VY = MY*COSUK-SINNOK*SINUK\n",
    "VZ = SINIK*COSUK"
   ]
  },
  {
   "cell_type": "code",
   "execution_count": 25,
   "id": "fa77fcc8-baa5-42a6-9748-858c6498d704",
   "metadata": {},
   "outputs": [
    {
     "data": {
      "text/plain": [
       "array([-0.4035672597245912, -0.9149499805335722,  0.9894979904203342,\n",
       "       -0.1445466255369538, -0.9965343648574752, -0.0831820873632574,\n",
       "       -0.1440456796717595,  0.0120236900334789,  0.1342395694340525,\n",
       "        0.9069267300887937, -0.3993289924969241,  0.0982250247562603,\n",
       "       -0.4131697178089905, -0.9053411670730935])"
      ]
     },
     "execution_count": 25,
     "metadata": {},
     "output_type": "execute_result"
    }
   ],
   "source": [
    "cf = hy.cfunc([SINUK, COSUK, SINIK, COSIK, SINNOK, COSNOK, MX, MY, UX, UY, UZ, VX, VY, VZ], [N0, I0, E0, BSTAR, OMEGA0, M0, TSINCE, NODE0])\n",
    "\n",
    "res = cf(num_vals)\n",
    "\n",
    "res"
   ]
  },
  {
   "cell_type": "code",
   "execution_count": 26,
   "id": "376dada8-fd83-4be0-a619-c8039eb91d6f",
   "metadata": {},
   "outputs": [],
   "source": [
    "# Position and Velocity\n",
    "PV1 = RK*UX\n",
    "PV2 = RK*UY\n",
    "PV3 = RK*UZ\n",
    "PV4 = RDOTK*UX+RFDOTK*VX\n",
    "PV5 = RDOTK*UY+RFDOTK*VY\n",
    "PV6 = RDOTK*UZ+RFDOTK*VZ"
   ]
  },
  {
   "cell_type": "code",
   "execution_count": 27,
   "id": "da53c28b-7473-4bae-b539-ddd48ac327dc",
   "metadata": {},
   "outputs": [
    {
     "data": {
      "text/plain": [
       "array([ 0.1409611520702677,  0.9523379526290973, -0.4193240120982288,\n",
       "        0.007144000118064 , -0.0299061611283577, -0.065764294062157 ])"
      ]
     },
     "execution_count": 27,
     "metadata": {},
     "output_type": "execute_result"
    }
   ],
   "source": [
    "sgp4 = hy.cfunc([PV1, PV2, PV3, PV4, PV5, PV6], [N0, I0, E0, BSTAR, OMEGA0, M0, TSINCE, NODE0], fast_math=True)\n",
    "\n",
    "res = sgp4(num_vals)\n",
    "\n",
    "res"
   ]
  },
  {
   "cell_type": "code",
   "execution_count": 28,
   "id": "2241334f-26f3-4d61-b26c-a6310b9944c5",
   "metadata": {},
   "outputs": [
    {
     "name": "stdout",
     "output_type": "stream",
     "text": [
      "[  899.0692576596966  6074.140027491988  -2674.5051579041365]\n",
      "[ 0.7594232865504702 -3.179092216806967  -6.990892428468935 ]\n"
     ]
    }
   ],
   "source": [
    "print(res[:3] * KMPER)\n",
    "print(res[3:] * KMPER/60.)"
   ]
  }
 ],
 "metadata": {
  "kernelspec": {
   "display_name": "Python 3 (ipykernel)",
   "language": "python",
   "name": "python3"
  },
  "language_info": {
   "codemirror_mode": {
    "name": "ipython",
    "version": 3
   },
   "file_extension": ".py",
   "mimetype": "text/x-python",
   "name": "python",
   "nbconvert_exporter": "python",
   "pygments_lexer": "ipython3",
   "version": "3.10.13"
  }
 },
 "nbformat": 4,
 "nbformat_minor": 5
}
