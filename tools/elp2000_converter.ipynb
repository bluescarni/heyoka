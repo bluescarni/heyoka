{
 "cells": [
  {
   "cell_type": "markdown",
   "id": "7f34c190-27fd-4566-bf94-19f40bac0f64",
   "metadata": {},
   "source": [
    "# Data conversion"
   ]
  },
  {
   "cell_type": "code",
   "execution_count": 1,
   "id": "17110f34-1320-45ca-b4c7-6f52dc315a92",
   "metadata": {},
   "outputs": [],
   "source": [
    "def render_1_3():\n",
    "    import fortranformat as ff\n",
    "    import scipy.constants\n",
    " \n",
    "    term_rr = ff.FortranRecordReader(\"4I3,2X,F13.5,6(2X,F10.2)\")\n",
    "\n",
    "    header = ''\n",
    "    src = ''\n",
    "\n",
    "    for i in range(0, 3):\n",
    "        with open(f\"ELP{i+1}\", \"r\") as f:\n",
    "            # NOTE: skip the header.\n",
    "            txt = f.readlines()[1:]\n",
    "\n",
    "        header += f'extern const std::int8_t elp2000_idx_{i+1}[{len(txt)}][4];\\n'\n",
    "        header += f'extern const double elp2000_A_{i+1}[{len(txt)}][1];\\n'\n",
    "\n",
    "        src1 = f'const std::int8_t elp2000_idx_{i+1}[{len(txt)}][4] = {{'\n",
    "        src2 = f'const double elp2000_A_{i+1}[{len(txt)}][1] = {{'\n",
    "        \n",
    "        for j in range(len(txt)):\n",
    "            rec = term_rr.read(txt[j])\n",
    "            idxs = rec[0:4]\n",
    "            vals = rec[4:5]\n",
    "\n",
    "            src1 += f'{{{idxs[0]},{idxs[1]},{idxs[2]},{idxs[3]}}}'\n",
    "            if j + 1 != len(txt):\n",
    "                src1 += ','\n",
    "\n",
    "            cur_A = vals[0] if i == 2 else vals[0] * scipy.constants.arcsecond\n",
    "            \n",
    "            src2 += f'{{{cur_A:.17g}}}'\n",
    "            if j + 1 != len(txt):\n",
    "                src2 += ','\n",
    "\n",
    "        src1 += '};'\n",
    "        src2 += '};'\n",
    "\n",
    "        src += f'{src1}\\n{src2}\\n'\n",
    "\n",
    "    with open('elp2000_1_3.hpp', 'w') as f:\n",
    "        f.write(header)\n",
    "\n",
    "    with open('elp2000_1_3.cpp', 'w') as f:\n",
    "        f.write(src)"
   ]
  },
  {
   "cell_type": "code",
   "execution_count": 2,
   "id": "17729d53-931f-46ea-b9fd-4f4eb51a31d2",
   "metadata": {},
   "outputs": [],
   "source": [
    "render_1_3()"
   ]
  },
  {
   "cell_type": "code",
   "execution_count": 3,
   "id": "6acefbec-57e0-4731-8133-a62d0d8c4d6a",
   "metadata": {},
   "outputs": [],
   "source": [
    "def render_4_9():\n",
    "    import fortranformat as ff\n",
    "    import scipy.constants\n",
    " \n",
    "    term_rr = ff.FortranRecordReader(\"5I3,1X,F9.5,1X,F9.5,1X,F9.3\")\n",
    "\n",
    "    header = ''\n",
    "    src = ''\n",
    "\n",
    "    for i in range(4, 10):\n",
    "        with open(f\"ELP{i}\", \"r\") as f:\n",
    "            # NOTE: skip the header.\n",
    "            txt = f.readlines()[1:]\n",
    "\n",
    "        header += f'extern const std::int8_t elp2000_idx_{i}[{len(txt)}][5];\\n'\n",
    "        header += f'extern const double elp2000_phi_A_{i}[{len(txt)}][2];\\n'\n",
    "\n",
    "        src1 = f'const std::int8_t elp2000_idx_{i}[{len(txt)}][5] = {{'\n",
    "        src2 = f'const double elp2000_phi_A_{i}[{len(txt)}][2] = {{'\n",
    "        \n",
    "        for j in range(len(txt)):\n",
    "            rec = term_rr.read(txt[j])\n",
    "            idxs = rec[0:5]\n",
    "            vals = rec[5:7]\n",
    "\n",
    "            src1 += f'{{{idxs[0]},{idxs[1]},{idxs[2]},{idxs[3]},{idxs[4]}}}'\n",
    "            if j + 1 != len(txt):\n",
    "                src1 += ','\n",
    "\n",
    "            cur_phi = vals[0] * scipy.constants.degree\n",
    "            cur_A = vals[1] if (i == 6 or i == 9) else vals[1] * scipy.constants.arcsecond\n",
    "            \n",
    "            src2 += f'{{{cur_phi:.17g},{cur_A:.17g}}}'\n",
    "            if j + 1 != len(txt):\n",
    "                src2 += ','\n",
    "\n",
    "        src1 += '};'\n",
    "        src2 += '};'\n",
    "\n",
    "        src += f'{src1}\\n{src2}\\n'\n",
    "\n",
    "    with open('elp2000_4_9.hpp', 'w') as f:\n",
    "        f.write(header)\n",
    "\n",
    "    with open('elp2000_4_9.cpp', 'w') as f:\n",
    "        f.write(src)"
   ]
  },
  {
   "cell_type": "code",
   "execution_count": 4,
   "id": "c8cc4e0c-f3f7-4347-9aab-b2a944f85735",
   "metadata": {},
   "outputs": [],
   "source": [
    "render_4_9()"
   ]
  },
  {
   "cell_type": "code",
   "execution_count": 5,
   "id": "f30de3ed-43fd-4bf6-9065-005b9de4f4b3",
   "metadata": {},
   "outputs": [],
   "source": [
    "def render_10_15():\n",
    "    import fortranformat as ff\n",
    "    import scipy.constants\n",
    " \n",
    "    term_rr = ff.FortranRecordReader(\"11I3,1X,F9.5,1X,F9.5,1X,F9.3\")\n",
    "\n",
    "    header = ''\n",
    "    src = ''\n",
    "\n",
    "    for i in range(10, 16):\n",
    "        with open(f\"ELP{i}\", \"r\") as f:\n",
    "            # NOTE: skip the header.\n",
    "            txt = f.readlines()[1:]\n",
    "\n",
    "        header += f'extern const std::int8_t elp2000_idx_{i}[{len(txt)}][11];\\n'\n",
    "        header += f'extern const double elp2000_phi_A_{i}[{len(txt)}][2];\\n'\n",
    "\n",
    "        src1 = f'const std::int8_t elp2000_idx_{i}[{len(txt)}][11] = {{'\n",
    "        src2 = f'const double elp2000_phi_A_{i}[{len(txt)}][2] = {{'\n",
    "        \n",
    "        for j in range(len(txt)):\n",
    "            rec = term_rr.read(txt[j])\n",
    "            idxs = rec[0:11]\n",
    "            vals = rec[11:13]\n",
    "\n",
    "            src1 += '{' + \",\".join([f'{idx}' for idx in idxs]) + '}'\n",
    "            if j + 1 != len(txt):\n",
    "                src1 += ','\n",
    "\n",
    "            cur_phi = vals[0] * scipy.constants.degree\n",
    "            cur_A = vals[1] if (i == 12 or i == 15) else vals[1] * scipy.constants.arcsecond\n",
    "            \n",
    "            src2 += f'{{{cur_phi:.17g},{cur_A:.17g}}}'\n",
    "            if j + 1 != len(txt):\n",
    "                src2 += ','\n",
    "\n",
    "        src1 += '};'\n",
    "        src2 += '};'\n",
    "\n",
    "        src += f'{src1}\\n{src2}\\n'\n",
    "\n",
    "    with open('elp2000_10_15.hpp', 'w') as f:\n",
    "        f.write(header)\n",
    "\n",
    "    with open('elp2000_10_15.cpp', 'w') as f:\n",
    "        f.write(src)"
   ]
  },
  {
   "cell_type": "code",
   "execution_count": 6,
   "id": "60c48a89-f62d-43fc-b66e-d6cf2aa8ff95",
   "metadata": {},
   "outputs": [],
   "source": [
    "render_10_15()"
   ]
  },
  {
   "cell_type": "code",
   "execution_count": 7,
   "id": "c1f2bbb3-e9f0-4ab9-bd6c-8447e8e0e60d",
   "metadata": {},
   "outputs": [],
   "source": [
    "def render_16_21():\n",
    "    import fortranformat as ff\n",
    "    import scipy.constants\n",
    " \n",
    "    term_rr = ff.FortranRecordReader(\"11I3,1X,F9.5,1X,F9.5,1X,F9.3\")\n",
    "\n",
    "    header = ''\n",
    "    src = ''\n",
    "\n",
    "    for i in range(16, 22):\n",
    "        with open(f\"ELP{i}\", \"r\") as f:\n",
    "            # NOTE: skip the header.\n",
    "            txt = f.readlines()[1:]\n",
    "\n",
    "        header += f'extern const std::int8_t elp2000_idx_{i}[{len(txt)}][11];\\n'\n",
    "        header += f'extern const double elp2000_phi_A_{i}[{len(txt)}][2];\\n'\n",
    "\n",
    "        src1 = f'const std::int8_t elp2000_idx_{i}[{len(txt)}][11] = {{'\n",
    "        src2 = f'const double elp2000_phi_A_{i}[{len(txt)}][2] = {{'\n",
    "        \n",
    "        for j in range(len(txt)):\n",
    "            rec = term_rr.read(txt[j])\n",
    "            idxs = rec[0:11]\n",
    "            vals = rec[11:13]\n",
    "\n",
    "            src1 += '{' + \",\".join([f'{idx}' for idx in idxs]) + '}'\n",
    "            if j + 1 != len(txt):\n",
    "                src1 += ','\n",
    "\n",
    "            cur_phi = vals[0] * scipy.constants.degree\n",
    "            cur_A = vals[1] if (i == 18 or i == 21) else vals[1] * scipy.constants.arcsecond\n",
    "            \n",
    "            src2 += f'{{{cur_phi:.17g},{cur_A:.17g}}}'\n",
    "            if j + 1 != len(txt):\n",
    "                src2 += ','\n",
    "\n",
    "        src1 += '};'\n",
    "        src2 += '};'\n",
    "\n",
    "        src += f'{src1}\\n{src2}\\n'\n",
    "\n",
    "    with open('elp2000_16_21.hpp', 'w') as f:\n",
    "        f.write(header)\n",
    "\n",
    "    with open('elp2000_16_21.cpp', 'w') as f:\n",
    "        f.write(src)"
   ]
  },
  {
   "cell_type": "code",
   "execution_count": 8,
   "id": "94d99d08-ba2e-4485-9e9d-6f922c27bcea",
   "metadata": {},
   "outputs": [],
   "source": [
    "render_16_21()"
   ]
  },
  {
   "cell_type": "code",
   "execution_count": 9,
   "id": "45a3c2a2-4c2f-4481-8513-340b41f6c652",
   "metadata": {},
   "outputs": [],
   "source": [
    "def render_22_36():\n",
    "    import fortranformat as ff\n",
    "    import scipy.constants\n",
    " \n",
    "    term_rr = ff.FortranRecordReader(\"5I3,1X,F9.5,1X,F9.5,1X,F9.3\")\n",
    "\n",
    "    header = ''\n",
    "    src = ''\n",
    "\n",
    "    for i in range(22, 37):\n",
    "        with open(f\"ELP{i}\", \"r\") as f:\n",
    "            # NOTE: skip the header.\n",
    "            txt = f.readlines()[1:]\n",
    "\n",
    "        header += f'extern const std::int8_t elp2000_idx_{i}[{len(txt)}][5];\\n'\n",
    "        header += f'extern const double elp2000_phi_A_{i}[{len(txt)}][2];\\n'\n",
    "\n",
    "        src1 = f'const std::int8_t elp2000_idx_{i}[{len(txt)}][5] = {{'\n",
    "        src2 = f'const double elp2000_phi_A_{i}[{len(txt)}][2] = {{'\n",
    "        \n",
    "        for j in range(len(txt)):\n",
    "            rec = term_rr.read(txt[j])\n",
    "            idxs = rec[0:5]\n",
    "            vals = rec[5:7]\n",
    "\n",
    "            src1 += '{' + \",\".join([f'{idx}' for idx in idxs]) + '}'\n",
    "            if j + 1 != len(txt):\n",
    "                src1 += ','\n",
    "\n",
    "            cur_phi = vals[0] * scipy.constants.degree\n",
    "            cur_A = vals[1] if (i in [24, 27, 30, 33, 36]) else vals[1] * scipy.constants.arcsecond\n",
    "            \n",
    "            src2 += f'{{{cur_phi:.17g},{cur_A:.17g}}}'\n",
    "            if j + 1 != len(txt):\n",
    "                src2 += ','\n",
    "\n",
    "        src1 += '};'\n",
    "        src2 += '};'\n",
    "\n",
    "        src += f'{src1}\\n{src2}\\n'\n",
    "\n",
    "    with open('elp2000_22_36.hpp', 'w') as f:\n",
    "        f.write(header)\n",
    "\n",
    "    with open('elp2000_22_36.cpp', 'w') as f:\n",
    "        f.write(src)"
   ]
  },
  {
   "cell_type": "code",
   "execution_count": 10,
   "id": "d3f68c7d-f02c-4809-b277-9ff4c9c47cea",
   "metadata": {},
   "outputs": [],
   "source": [
    "render_22_36()"
   ]
  },
  {
   "cell_type": "markdown",
   "id": "37b81980-4458-4c17-90a1-b33ed98769fa",
   "metadata": {},
   "source": [
    "# Constants conversion"
   ]
  },
  {
   "cell_type": "code",
   "execution_count": 1,
   "id": "37e6e2da-95cb-4d95-8bbd-1369fe7bf4b4",
   "metadata": {},
   "outputs": [],
   "source": [
    "from astropy.coordinates import Angle"
   ]
  },
  {
   "cell_type": "code",
   "execution_count": 18,
   "id": "830947c5-bc4a-47b7-b028-1bc03012b164",
   "metadata": {},
   "outputs": [
    {
     "name": "stdout",
     "output_type": "stream",
     "text": [
      "3.8103444305883079\n",
      "8399.6847317739157\n",
      "-2.8547283984772807e-05\n",
      "3.2017095500473753e-08\n",
      "-1.5363745554361197e-10\n"
     ]
    }
   ],
   "source": [
    "# W1\n",
    "print(f'{Angle(\"218d18m59.95571s\").radian:.17g}')\n",
    "print(f'{Angle(\"1732559343.73604s\").radian:.17g}')\n",
    "print(f'{Angle(\"-5.8883s\").radian:.17g}')\n",
    "print(f'{Angle(\"0.006604s\").radian:.17g}')\n",
    "print(f'{Angle(\"-0.00003169s\").radian:.17g}')"
   ]
  },
  {
   "cell_type": "code",
   "execution_count": 23,
   "id": "ae5cfd92-5f78-4c30-a786-63abc8c730a9",
   "metadata": {},
   "outputs": [
    {
     "name": "stdout",
     "output_type": "stream",
     "text": [
      "1.4547885323225087\n",
      "70.993304818359618\n",
      "-0.00018557504160038375\n",
      "-2.1839401892941265e-07\n",
      "1.0327016221314225e-09\n"
     ]
    }
   ],
   "source": [
    "# W2\n",
    "print(f'{Angle(\"83d21m11.67475s\").radian:.17g}')\n",
    "print(f'{Angle(\"14643420.2632s\").radian:.17g}')\n",
    "print(f'{Angle(\"-38.2776s\").radian:.17g}')\n",
    "print(f'{Angle(\"-0.045047s\").radian:.17g}')\n",
    "print(f'{Angle(\"0.00021301s\").radian:.17g}')"
   ]
  },
  {
   "cell_type": "code",
   "execution_count": 25,
   "id": "32663247-e665-4c85-bfed-2c03bffd39f5",
   "metadata": {},
   "outputs": [
    {
     "name": "stdout",
     "output_type": "stream",
     "text": [
      "2.1824391972168398\n",
      "-33.781426356625921\n",
      "3.08448160195509e-05\n",
      "3.6967043184602116e-08\n",
      "-1.738541860458796e-10\n"
     ]
    }
   ],
   "source": [
    "# W3\n",
    "print(f'{Angle(\"125d02m40.39816s\").radian:.17g}')\n",
    "print(f'{Angle(\"-6967919.3622s\").radian:.17g}')\n",
    "print(f'{Angle(\"6.3622s\").radian:.17g}')\n",
    "print(f'{Angle(\"0.007625s\").radian:.17g}')\n",
    "print(f'{Angle(\"-0.00003586s\").radian:.17g}')"
   ]
  },
  {
   "cell_type": "code",
   "execution_count": 26,
   "id": "0eea9cd2-e491-46c9-94f4-2272c06c1b38",
   "metadata": {},
   "outputs": [
    {
     "name": "stdout",
     "output_type": "stream",
     "text": [
      "1.753470343150658\n",
      "628.30758496215537\n",
      "-9.7932363584126268e-08\n",
      "4.3633231299858238e-11\n",
      "7.2722052166430391e-13\n"
     ]
    }
   ],
   "source": [
    "# T\n",
    "print(f'{Angle(\"100d27m59.22059s\").radian:.17g}')\n",
    "print(f'{Angle(\"129597742.2758s\").radian:.17g}')\n",
    "print(f'{Angle(\"-0.0202s\").radian:.17g}')\n",
    "print(f'{Angle(\"0.000009s\").radian:.17g}')\n",
    "print(f'{Angle(\"0.00000015s\").radian:.17g}')"
   ]
  },
  {
   "cell_type": "code",
   "execution_count": 28,
   "id": "315bca01-5d90-49cf-a119-e4833a4bdfbd",
   "metadata": {},
   "outputs": [
    {
     "name": "stdout",
     "output_type": "stream",
     "text": [
      "5.1984667410274437\n",
      "7771.3771468120494\n",
      "-2.8449351621188683e-05\n",
      "3.1973462269173901e-08\n",
      "-1.5436467606527627e-10\n"
     ]
    }
   ],
   "source": [
    "# D\n",
    "print(f'{Angle(\"297d51m00.73512s\").radian:.17g}')\n",
    "print(f'{Angle(\"1602961601.4603s\").radian:.17g}')\n",
    "print(f'{Angle(\"-5.8681s\").radian:.17g}')\n",
    "print(f'{Angle(\"0.006595s\").radian:.17g}')\n",
    "print(f'{Angle(\"-0.00003184s\").radian:.17g}')"
   ]
  },
  {
   "cell_type": "code",
   "execution_count": 31,
   "id": "fe3d7c00-140a-4849-b1be-5f350ed1d6d0",
   "metadata": {},
   "outputs": [
    {
     "name": "stdout",
     "output_type": "stream",
     "text": [
      "6.2400601269714615\n",
      "628.30195516800313\n",
      "-2.680534842854624e-06\n",
      "7.1267611123101784e-10\n"
     ]
    }
   ],
   "source": [
    "# l'\n",
    "print(f'{Angle(\"357d31m44.79306s\").radian:.17g}')\n",
    "print(f'{Angle(\"129596581.0474s\").radian:.17g}')\n",
    "print(f'{Angle(\"-0.5529s\").radian:.17g}')\n",
    "print(f'{Angle(\"0.000147s\").radian:.17g}')"
   ]
  },
  {
   "cell_type": "code",
   "execution_count": 32,
   "id": "5c6776a0-e0a3-47b0-8f0d-92484c04dd30",
   "metadata": {},
   "outputs": [
    {
     "name": "stdout",
     "output_type": "stream",
     "text": [
      "2.3555558982657985\n",
      "8328.6914269553617\n",
      "0.00015702775761561094\n",
      "2.5041111442988642e-07\n",
      "-1.1863390776750345e-09\n"
     ]
    }
   ],
   "source": [
    "# l\n",
    "print(f'{Angle(\"134d57m48.28096s\").radian:.17g}')\n",
    "print(f'{Angle(\"1717915923.4728s\").radian:.17g}')\n",
    "print(f'{Angle(\"32.3893s\").radian:.17g}')\n",
    "print(f'{Angle(\"0.051651s\").radian:.17g}')\n",
    "print(f'{Angle(\"-0.00024470s\").radian:.17g}')"
   ]
  },
  {
   "cell_type": "code",
   "execution_count": 33,
   "id": "9f5de916-71da-46e6-89f3-d771d7752880",
   "metadata": {},
   "outputs": [
    {
     "name": "stdout",
     "output_type": "stream",
     "text": [
      "1.6279052333714679\n",
      "8433.4661581308319\n",
      "-5.9392100004323707e-05\n",
      "-4.9499476841283623e-09\n",
      "2.021673050226765e-11\n"
     ]
    }
   ],
   "source": [
    "# F\n",
    "print(f'{Angle(\"93d16m19.55755s\").radian:.17g}')\n",
    "print(f'{Angle(\"1739527263.0983s\").radian:.17g}')\n",
    "print(f'{Angle(\"-12.2505s\").radian:.17g}')\n",
    "print(f'{Angle(\"-0.001021s\").radian:.17g}')\n",
    "print(f'{Angle(\"0.00000417s\").radian:.17g}')"
   ]
  },
  {
   "cell_type": "code",
   "execution_count": 34,
   "id": "a69e5d1d-0e2a-4b8c-ad30-3e594a46cce1",
   "metadata": {},
   "outputs": [
    {
     "name": "stdout",
     "output_type": "stream",
     "text": [
      "0.024381748353014515\n"
     ]
    }
   ],
   "source": [
    "# Precession constant p\n",
    "print(f'{Angle(\"5029.0966s\").radian:.17g}')"
   ]
  },
  {
   "cell_type": "code",
   "execution_count": null,
   "id": "5314c345-0ee4-495a-abbc-5b30cb5c66e3",
   "metadata": {},
   "outputs": [],
   "source": []
  }
 ],
 "metadata": {
  "kernelspec": {
   "display_name": "Python 3 (ipykernel)",
   "language": "python",
   "name": "python3"
  },
  "language_info": {
   "codemirror_mode": {
    "name": "ipython",
    "version": 3
   },
   "file_extension": ".py",
   "mimetype": "text/x-python",
   "name": "python",
   "nbconvert_exporter": "python",
   "pygments_lexer": "ipython3",
   "version": "3.9.12"
  }
 },
 "nbformat": 4,
 "nbformat_minor": 5
}
